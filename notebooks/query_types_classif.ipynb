{
 "cells": [
  {
   "cell_type": "markdown",
   "metadata": {},
   "source": [
    "## <span style=\"text-decoration : underline\">Import packages and datas<span>"
   ]
  },
  {
   "cell_type": "code",
   "execution_count": 1,
   "metadata": {
    "scrolled": true
   },
   "outputs": [
    {
     "name": "stdout",
     "output_type": "stream",
     "text": [
      "\n",
      "3.5.2 (default, Nov 23 2017, 16:37:01) \n",
      "[GCC 5.4.0 20160609]\n",
      "\n",
      " 3.6.2 (v3.6.2:5fd33b5926, Jul 16 2017, 20:11:06) \n",
      " [GCC 4.2.1 (Apple Inc. build 5666) (dot 3)]\n"
     ]
    }
   ],
   "source": [
    "import numpy as np\n",
    "import pandas as pd\n",
    "import matplotlib.pyplot as plt\n",
    "import json\n",
    "import sys\n",
    "print ('\\n' + sys.version)\n",
    "print(\"\\n 3.6.2 (v3.6.2:5fd33b5926, Jul 16 2017, 20:11:06) \\n [GCC 4.2.1 (Apple Inc. build 5666) (dot 3)]\")"
   ]
  },
  {
   "cell_type": "code",
   "execution_count": 2,
   "metadata": {},
   "outputs": [],
   "source": [
    "import sys, os, json\n",
    "module_path = os.path.abspath(os.path.join('..'))\n",
    "if module_path not in sys.path:\n",
    "    sys.path.append(module_path)\n",
    "#sys.path.append('/home/claroche/PROJET_ANNEK/Analyse_textuelle')\n",
    "dbs_path = module_path + \"/Analyse_textuelle/query_dbs/\"\n",
    "list_files = os.listdir(dbs_path)"
   ]
  },
  {
   "cell_type": "code",
   "execution_count": 3,
   "metadata": {},
   "outputs": [],
   "source": []
  },
  {
   "cell_type": "code",
   "execution_count": 4,
   "metadata": {},
   "outputs": [],
   "source": [
    "list_files.remove('.ipynb_checkpoints')\n",
    "list_query_type = [file_name.replace('.json','') for file_name in list_files]"
   ]
  },
  {
   "cell_type": "code",
   "execution_count": 306,
   "metadata": {},
   "outputs": [
    {
     "data": {
      "text/plain": [
       "['AddToPlaylist_queries',\n",
       " 'GetWeather_queries',\n",
       " 'RateBook_queries',\n",
       " 'PlayMusic_queries',\n",
       " 'SearchScreeningEvent_queries',\n",
       " 'SearchCreativeWork_queries',\n",
       " 'BookRestaurant_queries']"
      ]
     },
     "execution_count": 306,
     "metadata": {},
     "output_type": "execute_result"
    }
   ],
   "source": [
    "list_query_type"
   ]
  },
  {
   "cell_type": "code",
   "execution_count": 27,
   "metadata": {},
   "outputs": [],
   "source": [
    "datasets = []\n",
    "for index, query_type in enumerate(list_query_type):\n",
    "    if index == 3:\n",
    "        pre_data = json.load(open(dbs_path + query_type + '.json', encoding = 'latin-1'))\n",
    "    else:\n",
    "        pre_data = json.load(open(dbs_path +query_type + '.json'))\n",
    "    datasets.append(pre_data)\n",
    "\n",
    "def flatten(dict_data):\n",
    "    dict_data = dict_data[\"data\"]\n",
    "    sentence = \"\"\n",
    "    for words in dict_data:\n",
    "        sentence += words['text']\n",
    "    return(sentence)\n",
    "\n",
    "new = {list(query_type_dico.keys())[0] : list(query_type_dico.values())[0]  for query_type_dico in datasets}\n",
    "new = [ {'query_type' : query_type, 'text_full' : flatten(dict_data)} for query_type, data_query_type in new.items()\n",
    "       for dict_data in data_query_type  ]\n",
    "data_label = pd.DataFrame(new)"
   ]
  },
  {
   "cell_type": "code",
   "execution_count": 28,
   "metadata": {},
   "outputs": [
    {
     "name": "stdout",
     "output_type": "stream",
     "text": [
      "13623\n"
     ]
    },
    {
     "data": {
      "text/plain": [
       "(13784, 2)"
      ]
     },
     "execution_count": 28,
     "metadata": {},
     "output_type": "execute_result"
    }
   ],
   "source": [
    "print(data_label['text_full'].nunique())\n",
    "#data_label[data_label['text_full'].duplicated() == True]\n",
    "data_label.shape"
   ]
  },
  {
   "cell_type": "code",
   "execution_count": 29,
   "metadata": {},
   "outputs": [
    {
     "data": {
      "text/html": [
       "<div>\n",
       "<style scoped>\n",
       "    .dataframe tbody tr th:only-of-type {\n",
       "        vertical-align: middle;\n",
       "    }\n",
       "\n",
       "    .dataframe tbody tr th {\n",
       "        vertical-align: top;\n",
       "    }\n",
       "\n",
       "    .dataframe thead th {\n",
       "        text-align: right;\n",
       "    }\n",
       "</style>\n",
       "<table border=\"1\" class=\"dataframe\">\n",
       "  <thead>\n",
       "    <tr style=\"text-align: right;\">\n",
       "      <th></th>\n",
       "      <th>query_type</th>\n",
       "      <th>text_full</th>\n",
       "    </tr>\n",
       "  </thead>\n",
       "  <tbody>\n",
       "    <tr>\n",
       "      <th>0</th>\n",
       "      <td>GetWeather</td>\n",
       "      <td>What will the weather be this year in Horsesho...</td>\n",
       "    </tr>\n",
       "    <tr>\n",
       "      <th>1</th>\n",
       "      <td>GetWeather</td>\n",
       "      <td>Will it be sunny one hundred thirty five days ...</td>\n",
       "    </tr>\n",
       "    <tr>\n",
       "      <th>2</th>\n",
       "      <td>GetWeather</td>\n",
       "      <td>Is it supposed to rain nearby my current locat...</td>\n",
       "    </tr>\n",
       "    <tr>\n",
       "      <th>3</th>\n",
       "      <td>GetWeather</td>\n",
       "      <td>what is the forecast starting on september 1, ...</td>\n",
       "    </tr>\n",
       "    <tr>\n",
       "      <th>4</th>\n",
       "      <td>GetWeather</td>\n",
       "      <td>how cold is it in Princeton Junction</td>\n",
       "    </tr>\n",
       "  </tbody>\n",
       "</table>\n",
       "</div>"
      ],
      "text/plain": [
       "   query_type                                          text_full\n",
       "0  GetWeather  What will the weather be this year in Horsesho...\n",
       "1  GetWeather  Will it be sunny one hundred thirty five days ...\n",
       "2  GetWeather  Is it supposed to rain nearby my current locat...\n",
       "3  GetWeather  what is the forecast starting on september 1, ...\n",
       "4  GetWeather               how cold is it in Princeton Junction"
      ]
     },
     "execution_count": 29,
     "metadata": {},
     "output_type": "execute_result"
    }
   ],
   "source": [
    "data_label.head()"
   ]
  },
  {
   "cell_type": "code",
   "execution_count": 30,
   "metadata": {},
   "outputs": [
    {
     "data": {
      "text/plain": [
       "(13623, 2)"
      ]
     },
     "execution_count": 30,
     "metadata": {},
     "output_type": "execute_result"
    }
   ],
   "source": [
    "data_label = data_label.drop_duplicates(subset='text_full', keep='first')\n",
    "data_label.shape\n"
   ]
  },
  {
   "cell_type": "code",
   "execution_count": 32,
   "metadata": {},
   "outputs": [
    {
     "data": {
      "text/html": [
       "<div>\n",
       "<style scoped>\n",
       "    .dataframe tbody tr th:only-of-type {\n",
       "        vertical-align: middle;\n",
       "    }\n",
       "\n",
       "    .dataframe tbody tr th {\n",
       "        vertical-align: top;\n",
       "    }\n",
       "\n",
       "    .dataframe thead th {\n",
       "        text-align: right;\n",
       "    }\n",
       "</style>\n",
       "<table border=\"1\" class=\"dataframe\">\n",
       "  <thead>\n",
       "    <tr style=\"text-align: right;\">\n",
       "      <th></th>\n",
       "      <th>query_type</th>\n",
       "      <th>text_full</th>\n",
       "      <th>label</th>\n",
       "    </tr>\n",
       "  </thead>\n",
       "  <tbody>\n",
       "    <tr>\n",
       "      <th>0</th>\n",
       "      <td>GetWeather</td>\n",
       "      <td>What will the weather be this year in Horsesho...</td>\n",
       "      <td>1</td>\n",
       "    </tr>\n",
       "    <tr>\n",
       "      <th>1</th>\n",
       "      <td>GetWeather</td>\n",
       "      <td>Will it be sunny one hundred thirty five days ...</td>\n",
       "      <td>1</td>\n",
       "    </tr>\n",
       "    <tr>\n",
       "      <th>2</th>\n",
       "      <td>GetWeather</td>\n",
       "      <td>Is it supposed to rain nearby my current locat...</td>\n",
       "      <td>1</td>\n",
       "    </tr>\n",
       "    <tr>\n",
       "      <th>3</th>\n",
       "      <td>GetWeather</td>\n",
       "      <td>what is the forecast starting on september 1, ...</td>\n",
       "      <td>1</td>\n",
       "    </tr>\n",
       "    <tr>\n",
       "      <th>4</th>\n",
       "      <td>GetWeather</td>\n",
       "      <td>how cold is it in Princeton Junction</td>\n",
       "      <td>1</td>\n",
       "    </tr>\n",
       "  </tbody>\n",
       "</table>\n",
       "</div>"
      ],
      "text/plain": [
       "   query_type                                          text_full  label\n",
       "0  GetWeather  What will the weather be this year in Horsesho...      1\n",
       "1  GetWeather  Will it be sunny one hundred thirty five days ...      1\n",
       "2  GetWeather  Is it supposed to rain nearby my current locat...      1\n",
       "3  GetWeather  what is the forecast starting on september 1, ...      1\n",
       "4  GetWeather               how cold is it in Princeton Junction      1"
      ]
     },
     "execution_count": 32,
     "metadata": {},
     "output_type": "execute_result"
    }
   ],
   "source": [
    "queries = {'AddToPlaylist' : 0, 'GetWeather': 1, 'RateBook': 2, 'PlayMusic' : 3, 'SearchScreeningEvent': 4, \n",
    "           'SearchCreativeWork' : 5, 'BookRestaurant': 6}\n",
    "data_label['label'] = data_label['query_type'].map(queries) \n",
    "data_label.head()\n"
   ]
  },
  {
   "cell_type": "markdown",
   "metadata": {},
   "source": [
    "#### Multilabel target"
   ]
  },
  {
   "cell_type": "code",
   "execution_count": 35,
   "metadata": {},
   "outputs": [],
   "source": [
    "def multi_label(i):\n",
    "    multi_lab = np.zeros(7)\n",
    "    multi_lab[i] = 1\n",
    "    return multi_lab\n",
    "\n",
    "data_label[\"label_multi\"] = np.nan\n",
    "data_label[\"label_multi\"] = data_label[\"label\"].apply(multi_label)\n",
    "data_label.dropna(inplace = True)"
   ]
  },
  {
   "cell_type": "markdown",
   "metadata": {},
   "source": [
    "### Deep learning model"
   ]
  },
  {
   "cell_type": "code",
   "execution_count": 73,
   "metadata": {},
   "outputs": [],
   "source": [
    "from keras.preprocessing.text import Tokenizer\n",
    "from keras.preprocessing.sequence import pad_sequences\n",
    "from keras.layers import Embedding,SpatialDropout1D,LSTM,Dense, Dropout\n",
    "from keras.models import Sequential, load_model\n",
    "from keras.optimizers import Adam\n",
    "from sklearn.model_selection import train_test_split\n",
    "import pickle\n",
    "from sklearn.metrics import confusion_matrix"
   ]
  },
  {
   "cell_type": "code",
   "execution_count": 74,
   "metadata": {},
   "outputs": [],
   "source": [
    "nb_words_max = 50000\n",
    "max_seq_length = 40\n",
    "embedding_dim = 100"
   ]
  },
  {
   "cell_type": "code",
   "execution_count": 75,
   "metadata": {},
   "outputs": [
    {
     "name": "stdout",
     "output_type": "stream",
     "text": [
      "Found 11637 unique tokens.\n",
      "Shape of data tensor: (13623, 40)\n",
      "Shape of label tensor: (13623, 7)\n"
     ]
    }
   ],
   "source": [
    "tokenizer = Tokenizer(num_words=nb_words_max, filters='!\"#$%&()*+,-./:;<=>?@[\\]^_`{|}~', lower=True)\n",
    "tokenizer.fit_on_texts(data_label['text_full'].values)\n",
    "word_index = tokenizer.word_index\n",
    "print('Found %s unique tokens.' % len(word_index))\n",
    "\n",
    "X = tokenizer.texts_to_sequences(data_label['text_full'].values)\n",
    "X = pad_sequences(X, maxlen=max_seq_length)\n",
    "print('Shape of data tensor:', X.shape)\n",
    "\n",
    "Y = np.vstack(data_label['label_multi'].values)\n",
    "print('Shape of label tensor:', Y.shape)\n",
    "\n",
    "X_train, X_test, Y_train, Y_test = train_test_split(X,Y, test_size = 0.10, random_state = 42)"
   ]
  },
  {
   "cell_type": "code",
   "execution_count": 76,
   "metadata": {},
   "outputs": [],
   "source": [
    "# saving tokenizer\n",
    "with open('models/tokenizer.pickle', 'wb') as handle:\n",
    "    pickle.dump(tokenizer, handle, protocol=pickle.HIGHEST_PROTOCOL)"
   ]
  },
  {
   "cell_type": "code",
   "execution_count": 77,
   "metadata": {
    "collapsed": true
   },
   "outputs": [
    {
     "name": "stdout",
     "output_type": "stream",
     "text": [
      "_________________________________________________________________\n",
      "Layer (type)                 Output Shape              Param #   \n",
      "=================================================================\n",
      "embedding_4 (Embedding)      (None, 40, 100)           5000000   \n",
      "_________________________________________________________________\n",
      "spatial_dropout1d_4 (Spatial (None, 40, 100)           0         \n",
      "_________________________________________________________________\n",
      "lstm_4 (LSTM)                (None, 10)                4440      \n",
      "_________________________________________________________________\n",
      "dropout_4 (Dropout)          (None, 10)                0         \n",
      "_________________________________________________________________\n",
      "dense_4 (Dense)              (None, 7)                 77        \n",
      "=================================================================\n",
      "Total params: 5,004,517\n",
      "Trainable params: 5,004,517\n",
      "Non-trainable params: 0\n",
      "_________________________________________________________________\n"
     ]
    }
   ],
   "source": [
    "model = Sequential()\n",
    "model.add(Embedding(nb_words_max, embedding_dim, input_length=X.shape[1]))\n",
    "model.add(SpatialDropout1D(0.2))\n",
    "model.add(LSTM(10, dropout=0.3, recurrent_dropout=0.2))\n",
    "model.add(Dropout(0.3))\n",
    "model.add(Dense(7, activation='softmax'))\n",
    "model.compile(loss='categorical_crossentropy', optimizer=Adam(lr = 0.0005), metrics=['accuracy'])\n",
    "model.summary()"
   ]
  },
  {
   "cell_type": "code",
   "execution_count": 78,
   "metadata": {},
   "outputs": [
    {
     "name": "stdout",
     "output_type": "stream",
     "text": [
      "Train on 12260 samples, validate on 1363 samples\n",
      "Epoch 1/10\n",
      "12260/12260 [==============================] - 73s 6ms/step - loss: 1.1434 - acc: 0.7014 - val_loss: 0.4355 - val_acc: 0.9494\n",
      "Epoch 2/10\n",
      "12260/12260 [==============================] - 74s 6ms/step - loss: 0.4113 - acc: 0.9086 - val_loss: 0.1765 - val_acc: 0.9758\n",
      "Epoch 3/10\n",
      "12260/12260 [==============================] - 85s 7ms/step - loss: 0.2371 - acc: 0.9506 - val_loss: 0.1139 - val_acc: 0.9787\n",
      "Epoch 4/10\n",
      "12260/12260 [==============================] - 65s 5ms/step - loss: 0.1710 - acc: 0.9639 - val_loss: 0.0847 - val_acc: 0.9817\n",
      "Epoch 5/10\n",
      "12260/12260 [==============================] - 66s 5ms/step - loss: 0.1356 - acc: 0.9700 - val_loss: 0.0707 - val_acc: 0.9839\n",
      "Epoch 6/10\n",
      "12260/12260 [==============================] - 80s 7ms/step - loss: 0.1037 - acc: 0.9765 - val_loss: 0.0673 - val_acc: 0.9817\n",
      "Epoch 7/10\n",
      "12260/12260 [==============================] - 76s 6ms/step - loss: 0.0868 - acc: 0.9814 - val_loss: 0.0727 - val_acc: 0.9795\n",
      "Epoch 8/10\n",
      "12260/12260 [==============================] - 70s 6ms/step - loss: 0.0731 - acc: 0.9843 - val_loss: 0.0650 - val_acc: 0.9809\n",
      "Epoch 9/10\n",
      "12260/12260 [==============================] - 68s 6ms/step - loss: 0.0633 - acc: 0.9847 - val_loss: 0.0713 - val_acc: 0.9795\n",
      "Epoch 10/10\n",
      "12260/12260 [==============================] - 67s 6ms/step - loss: 0.0579 - acc: 0.9861 - val_loss: 0.0744 - val_acc: 0.9802\n"
     ]
    }
   ],
   "source": [
    "history = model.fit(X_train, Y_train, epochs=10, batch_size= 16, validation_data = (X_test,Y_test))"
   ]
  },
  {
   "cell_type": "code",
   "execution_count": 79,
   "metadata": {},
   "outputs": [],
   "source": [
    "model.save(\"models/lstm_classif_type.h5\")"
   ]
  },
  {
   "cell_type": "code",
   "execution_count": 80,
   "metadata": {},
   "outputs": [
    {
     "data": {
      "image/png": "[encoded data removed]",
      "text/plain": [
       "<Figure size 432x288 with 2 Axes>"
      ]
     },
     "metadata": {},
     "output_type": "display_data"
    }
   ],
   "source": [
    "plt.style.use(\"seaborn-darkgrid\")\n",
    "plt.subplot(121)\n",
    "plt.plot(history.history[\"loss\"], label = \"Loss\")\n",
    "plt.plot(history.history[\"val_loss\"], label = \"Validation loss\")\n",
    "plt.xlabel(\"Number of epochs\")\n",
    "plt.ylabel(\"Cross entropy\")\n",
    "plt.legend()\n",
    "\n",
    "plt.subplot(122)\n",
    "plt.plot(history.history[\"acc\"], label = \"Accuracy\")\n",
    "plt.plot(history.history[\"val_acc\"], label = \"Validation accuracy\")\n",
    "plt.ylabel(\"Accuracy\")\n",
    "plt.xlabel(\"Number of epochs\")\n",
    "plt.legend()\n",
    "plt.tight_layout()\n",
    "\n",
    "plt.savefig('graphs/loss_accuracy.png')"
   ]
  },
  {
   "cell_type": "code",
   "execution_count": 81,
   "metadata": {},
   "outputs": [],
   "source": [
    "import itertools\n",
    "from random import *\n",
    "from sklearn.metrics import accuracy_score\n",
    "\n",
    "def plot_confusion_matrix(cm, classes,\n",
    "                          normalize=False,\n",
    "                          title='Confusion matrix',\n",
    "                          cmap=plt.cm.Blues):\n",
    "    \"\"\"\n",
    "    This function prints and plots the confusion matrix.\n",
    "    Normalization can be applied by setting `normalize=True`.\n",
    "    \"\"\"\n",
    "    if normalize:\n",
    "        cm = cm.astype('float') / cm.sum(axis=1)[:, np.newaxis]\n",
    "        print(\"Normalized confusion matrix\")\n",
    "    else:\n",
    "        print('Confusion matrix, without normalization')\n",
    "\n",
    "    print(cm)\n",
    "\n",
    "    plt.imshow(cm, interpolation='nearest', cmap=cmap)\n",
    "    plt.title(title)\n",
    "    plt.colorbar()\n",
    "    tick_marks = np.arange(len(classes))\n",
    "    plt.xticks(tick_marks, classes, rotation=45)\n",
    "    plt.yticks(tick_marks, classes)\n",
    "\n",
    "    fmt = '.2f' if normalize else 'd'\n",
    "    thresh = cm.max() / 2.\n",
    "    for i, j in itertools.product(range(cm.shape[0]), range(cm.shape[1])):\n",
    "        plt.text(j, i, format(cm[i, j], fmt),\n",
    "                 horizontalalignment=\"center\",\n",
    "                 color=\"white\" if cm[i, j] > thresh else \"black\")\n",
    "\n",
    "    plt.ylabel('True label')\n",
    "    plt.xlabel('Predicted label')\n",
    "    plt.tight_layout()"
   ]
  },
  {
   "cell_type": "code",
   "execution_count": 82,
   "metadata": {},
   "outputs": [
    {
     "name": "stdout",
     "output_type": "stream",
     "text": [
      "Confusion matrix, without normalization\n",
      "[[191   0   0   1   0   2   0]\n",
      " [  0 202   0   0   0   0   3]\n",
      " [  0   0 204   0   0   0   0]\n",
      " [  0   0   2 189   1   3   0]\n",
      " [  0   0   0   0 184   4   0]\n",
      " [  1   0   0   1   8 175   1]\n",
      " [  0   0   0   0   0   0 191]]\n"
     ]
    },
    {
     "data": {
      "image/png": "[encoded data removed]",
      "text/plain": [
       "<Figure size 432x288 with 2 Axes>"
      ]
     },
     "metadata": {},
     "output_type": "display_data"
    }
   ],
   "source": [
    "pred = model.predict(X_test)\n",
    "n = len(X_test)\n",
    "\n",
    "lab_pred = np.zeros(n)\n",
    "lab_true = np.zeros(n)\n",
    "\n",
    "for i in range(n):\n",
    "    lab_pred[i] = np.argmax(pred[i])\n",
    "    lab_true[i] = np.argmax(Y_test[i])\n",
    "\n",
    "plot_confusion_matrix(confusion_matrix(lab_true,lab_pred), classes = np.arange(7))"
   ]
  },
  {
   "cell_type": "code",
   "execution_count": 83,
   "metadata": {},
   "outputs": [],
   "source": [
    "def multi_lab_to_query_type(lab):\n",
    "    return list_of_query_type[np.argmax(lab)]\n",
    "\n",
    "multi_lab_to_query_type_vect = np.vectorize(multi_lab_to_query_type)\n",
    "\n",
    "def predict(query_batch):\n",
    "    # loading tokenizer\n",
    "    with open('models/tokenizer.pickle', 'rb') as handle:\n",
    "        tokenizer = pickle.load(handle)\n",
    "    \n",
    "    X = tokenizer.texts_to_sequences(query_batch)\n",
    "    X = pad_sequences(X, maxlen = 40)\n",
    "    \n",
    "    model = load_model('models/lstm_classif_type.h5')\n",
    "    pred = model.predict(X)\n",
    "    print(pred)\n",
    "    \n",
    "    n = len(X)\n",
    "    lab_pred = np.zeros(n)\n",
    "    \n",
    "    for i in range(n):\n",
    "        lab_pred[i] = np.argmax(pred[i])\n",
    "    \n",
    "    return lab_pred"
   ]
  },
  {
   "cell_type": "code",
   "execution_count": 84,
   "metadata": {},
   "outputs": [
    {
     "name": "stdout",
     "output_type": "stream",
     "text": [
      "[[1.06325015e-01 3.31150852e-02 1.81292593e-01 3.86205196e-01\n",
      "  5.85291982e-02 2.12053925e-01 2.24790554e-02]\n",
      " [2.11131992e-03 1.35451715e-04 4.59938659e-04 9.96784925e-01\n",
      "  4.77899215e-04 2.28494991e-05 7.64722517e-06]\n",
      " [4.03347518e-03 1.10067986e-03 6.86643600e-01 2.02581882e-02\n",
      "  1.33469358e-01 1.50043339e-01 4.45141317e-03]\n",
      " [3.58177378e-04 9.97904062e-01 3.88314646e-07 2.77693500e-04\n",
      "  4.85206168e-04 1.74316097e-04 8.00258538e-04]\n",
      " [1.29685810e-04 1.10901811e-03 3.66241366e-05 4.42417513e-06\n",
      "  2.02470346e-05 1.12736714e-03 9.97572601e-01]]\n"
     ]
    },
    {
     "data": {
      "text/plain": [
       "array([3., 3., 2., 1., 6.])"
      ]
     },
     "execution_count": 84,
     "metadata": {},
     "output_type": "execute_result"
    }
   ],
   "source": [
    "test = [\"Francis petite frappe\", \"I want to listen to techno music\", \"Rate Harry Potter movie\", \n",
    "        \"What will the weather be like tomorow mother fucker ?\", 'I want to book a table for six']\n",
    "test = np.array(test)\n",
    "predict(test)"
   ]
  },
  {
   "cell_type": "code",
   "execution_count": 60,
   "metadata": {},
   "outputs": [
    {
     "data": {
      "text/plain": [
       "['AddToPlaylist_queries',\n",
       " 'GetWeather_queries',\n",
       " 'RateBook_queries',\n",
       " 'PlayMusic_queries',\n",
       " 'SearchScreeningEvent_queries',\n",
       " 'SearchCreativeWork_queries',\n",
       " 'BookRestaurant_queries']"
      ]
     },
     "execution_count": 60,
     "metadata": {},
     "output_type": "execute_result"
    }
   ],
   "source": [
    "list_query_type"
   ]
  }
 ],
 "metadata": {
  "kernelspec": {
   "display_name": "Python 3",
   "language": "python",
   "name": "python3"
  },
  "language_info": {
   "codemirror_mode": {
    "name": "ipython",
    "version": 3
   },
   "file_extension": ".py",
   "mimetype": "text/x-python",
   "name": "python",
   "nbconvert_exporter": "python",
   "pygments_lexer": "ipython3",
   "version": "3.5.2"
  },
  "toc": {
   "base_numbering": 1,
   "nav_menu": {},
   "number_sections": true,
   "sideBar": true,
   "skip_h1_title": false,
   "title_cell": "Table of Contents",
   "title_sidebar": "Contents",
   "toc_cell": false,
   "toc_position": {},
   "toc_section_display": true,
   "toc_window_display": false
  }
 },
 "nbformat": 4,
 "nbformat_minor": 2
}
