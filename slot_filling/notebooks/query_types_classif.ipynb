{
 "cells": [
  {
   "cell_type": "markdown",
   "metadata": {},
   "source": [
    "## <span style=\"text-decoration : underline\">Import packages and datas<span>"
   ]
  },
  {
   "cell_type": "code",
   "execution_count": 1,
   "metadata": {
    "scrolled": true
   },
   "outputs": [],
   "source": [
    "import numpy as np\n",
    "import pandas as pd\n",
    "import matplotlib.pyplot as plt"
   ]
  },
  {
   "cell_type": "code",
   "execution_count": 2,
   "metadata": {},
   "outputs": [],
   "source": [
    "import sys, os, json, pickle\n",
    "module_path = os.path.abspath(os.path.join('..'))\n",
    "if module_path not in sys.path:\n",
    "    sys.path.append(module_path)\n",
    "dbs_path = f'{module_path}/query_dbs/'\n",
    "models_path = f'{module_path}/models/'\n",
    "graphs_path =  f'{module_path}/graphs/'"
   ]
  },
  {
   "cell_type": "code",
   "execution_count": 3,
   "metadata": {},
   "outputs": [],
   "source": [
    "from utils.classif_utils import flatten, multi_label\n",
    "list_files = os.listdir(dbs_path)\n",
    "list_query_type = [file_name.replace('.json','') for file_name in list_files if not (file_name in('AllQueriesNoDuplicates.json','.DS_Store','AllQueries.json'))]"
   ]
  },
  {
   "cell_type": "code",
   "execution_count": 4,
   "metadata": {},
   "outputs": [],
   "source": [
    "datasets = []\n",
    "for index, query_type in enumerate(list_query_type):\n",
    "    if index == 3:\n",
    "        pre_data = json.load(open(dbs_path + query_type + '.json', encoding = 'latin-1'))\n",
    "    else:\n",
    "        pre_data = json.load(open(dbs_path +query_type + '.json'))\n",
    "    datasets.append(pre_data)"
   ]
  },
  {
   "cell_type": "code",
   "execution_count": 5,
   "metadata": {},
   "outputs": [],
   "source": [
    "new = {list(query_type_dico.keys())[0] : list(query_type_dico.values())[0]  for query_type_dico in datasets}\n",
    "new = [ {'query_type' : query_type, 'text_full' : flatten(dict_data)} for query_type, data_query_type in new.items()\n",
    "       for dict_data in data_query_type  ]\n",
    "data_label = pd.DataFrame(new)"
   ]
  },
  {
   "cell_type": "code",
   "execution_count": 6,
   "metadata": {},
   "outputs": [
    {
     "data": {
      "text/html": [
       "<div>\n",
       "<style scoped>\n",
       "    .dataframe tbody tr th:only-of-type {\n",
       "        vertical-align: middle;\n",
       "    }\n",
       "\n",
       "    .dataframe tbody tr th {\n",
       "        vertical-align: top;\n",
       "    }\n",
       "\n",
       "    .dataframe thead th {\n",
       "        text-align: right;\n",
       "    }\n",
       "</style>\n",
       "<table border=\"1\" class=\"dataframe\">\n",
       "  <thead>\n",
       "    <tr style=\"text-align: right;\">\n",
       "      <th></th>\n",
       "      <th>query_type</th>\n",
       "      <th>text_full</th>\n",
       "      <th>label</th>\n",
       "    </tr>\n",
       "  </thead>\n",
       "  <tbody>\n",
       "    <tr>\n",
       "      <th>0</th>\n",
       "      <td>PlayMusic</td>\n",
       "      <td>I need to hear the song Aspro Mavro from Bill ...</td>\n",
       "      <td>0</td>\n",
       "    </tr>\n",
       "    <tr>\n",
       "      <th>1</th>\n",
       "      <td>PlayMusic</td>\n",
       "      <td>play Yo Ho from the new york pops on Youtube</td>\n",
       "      <td>0</td>\n",
       "    </tr>\n",
       "    <tr>\n",
       "      <th>2</th>\n",
       "      <td>PlayMusic</td>\n",
       "      <td>Play some seventies music by Janne Puurtinen o...</td>\n",
       "      <td>0</td>\n",
       "    </tr>\n",
       "    <tr>\n",
       "      <th>3</th>\n",
       "      <td>PlayMusic</td>\n",
       "      <td>play the Música Da Série De Filmes O Hobbit al...</td>\n",
       "      <td>0</td>\n",
       "    </tr>\n",
       "    <tr>\n",
       "      <th>4</th>\n",
       "      <td>PlayMusic</td>\n",
       "      <td>Play Magic Sam from the thirties</td>\n",
       "      <td>0</td>\n",
       "    </tr>\n",
       "  </tbody>\n",
       "</table>\n",
       "</div>"
      ],
      "text/plain": [
       "  query_type                                          text_full  label\n",
       "0  PlayMusic  I need to hear the song Aspro Mavro from Bill ...      0\n",
       "1  PlayMusic       play Yo Ho from the new york pops on Youtube      0\n",
       "2  PlayMusic  Play some seventies music by Janne Puurtinen o...      0\n",
       "3  PlayMusic  play the Música Da Série De Filmes O Hobbit al...      0\n",
       "4  PlayMusic                   Play Magic Sam from the thirties      0"
      ]
     },
     "execution_count": 6,
     "metadata": {},
     "output_type": "execute_result"
    }
   ],
   "source": [
    "queries = {query_type : index for index, query_type in enumerate(list_query_type)}\n",
    "data_label['label'] = data_label['query_type'].map(queries) \n",
    "data_label.head()"
   ]
  },
  {
   "cell_type": "markdown",
   "metadata": {},
   "source": [
    "#### Multilabel target"
   ]
  },
  {
   "cell_type": "code",
   "execution_count": 7,
   "metadata": {},
   "outputs": [],
   "source": [
    "data_label[\"label_multi\"] = np.nan\n",
    "data_label[\"label_multi\"] = data_label[\"label\"].apply(multi_label)\n",
    "data_label.dropna(inplace = True)"
   ]
  },
  {
   "cell_type": "markdown",
   "metadata": {},
   "source": [
    "### Deep learning model"
   ]
  },
  {
   "cell_type": "code",
   "execution_count": 8,
   "metadata": {},
   "outputs": [
    {
     "name": "stderr",
     "output_type": "stream",
     "text": [
      "Using TensorFlow backend.\n"
     ]
    }
   ],
   "source": [
    "from keras.preprocessing.text import Tokenizer\n",
    "from keras.preprocessing.sequence import pad_sequences\n",
    "from keras.layers import Embedding,SpatialDropout1D,LSTM,Dense, Dropout\n",
    "from keras.models import Sequential, load_model\n",
    "from keras.optimizers import Adam\n",
    "from sklearn.model_selection import train_test_split\n",
    "from sklearn.metrics import confusion_matrix\n",
    "import numpy as np"
   ]
  },
  {
   "cell_type": "code",
   "execution_count": 9,
   "metadata": {},
   "outputs": [],
   "source": [
    "nb_words_max = 50000\n",
    "max_seq_length = 40\n",
    "embedding_dim = 100"
   ]
  },
  {
   "cell_type": "code",
   "execution_count": 10,
   "metadata": {},
   "outputs": [
    {
     "name": "stdout",
     "output_type": "stream",
     "text": [
      "Found 11965 unique tokens.\n",
      "Shape of data tensor: (14484, 40)\n",
      "Shape of label tensor: (14484, 8)\n"
     ]
    }
   ],
   "source": [
    "tokenizer = Tokenizer(num_words=nb_words_max, filters='!\"#$%&()*+,-./:;<=>?@[\\]^_`{|}~', lower=True)\n",
    "tokenizer.fit_on_texts(data_label['text_full'].values)\n",
    "word_index = tokenizer.word_index\n",
    "print('Found %s unique tokens.' % len(word_index))\n",
    "\n",
    "X = tokenizer.texts_to_sequences(data_label['text_full'].values)\n",
    "X = pad_sequences(X, maxlen=max_seq_length)\n",
    "print('Shape of data tensor:', X.shape)\n",
    "\n",
    "Y = np.vstack(data_label['label_multi'].values)\n",
    "print('Shape of label tensor:', Y.shape)\n",
    "\n",
    "X_train, X_test, Y_train, Y_test = train_test_split(X,Y, test_size = 0.10, random_state = 42)"
   ]
  },
  {
   "cell_type": "code",
   "execution_count": 11,
   "metadata": {},
   "outputs": [],
   "source": [
    "# saving tokenizer\n",
    "with open(f'{models_path}tokenizer.pickle', 'wb') as handle:\n",
    "    pickle.dump(tokenizer, handle, protocol=pickle.HIGHEST_PROTOCOL)"
   ]
  },
  {
   "cell_type": "code",
   "execution_count": 12,
   "metadata": {},
   "outputs": [
    {
     "name": "stdout",
     "output_type": "stream",
     "text": [
      "WARNING:tensorflow:From /usr/local/Cellar/python3/3.6.3/Frameworks/Python.framework/Versions/3.6/lib/python3.6/site-packages/tensorflow/python/framework/op_def_library.py:263: colocate_with (from tensorflow.python.framework.ops) is deprecated and will be removed in a future version.\n",
      "Instructions for updating:\n",
      "Colocations handled automatically by placer.\n",
      "WARNING:tensorflow:From /usr/local/Cellar/python3/3.6.3/Frameworks/Python.framework/Versions/3.6/lib/python3.6/site-packages/keras/backend/tensorflow_backend.py:3445: calling dropout (from tensorflow.python.ops.nn_ops) with keep_prob is deprecated and will be removed in a future version.\n",
      "Instructions for updating:\n",
      "Please use `rate` instead of `keep_prob`. Rate should be set to `rate = 1 - keep_prob`.\n",
      "_________________________________________________________________\n",
      "Layer (type)                 Output Shape              Param #   \n",
      "=================================================================\n",
      "embedding_1 (Embedding)      (None, 40, 100)           5000000   \n",
      "_________________________________________________________________\n",
      "spatial_dropout1d_1 (Spatial (None, 40, 100)           0         \n",
      "_________________________________________________________________\n",
      "lstm_1 (LSTM)                (None, 10)                4440      \n",
      "_________________________________________________________________\n",
      "dropout_1 (Dropout)          (None, 10)                0         \n",
      "_________________________________________________________________\n",
      "dense_1 (Dense)              (None, 8)                 88        \n",
      "=================================================================\n",
      "Total params: 5,004,528\n",
      "Trainable params: 5,004,528\n",
      "Non-trainable params: 0\n",
      "_________________________________________________________________\n"
     ]
    }
   ],
   "source": [
    "model = Sequential()\n",
    "model.add(Embedding(nb_words_max, embedding_dim, input_length=X.shape[1]))\n",
    "model.add(SpatialDropout1D(0.2))\n",
    "model.add(LSTM(10, dropout=0.3, recurrent_dropout=0.2))\n",
    "model.add(Dropout(0.3))\n",
    "model.add(Dense(8, activation='softmax'))\n",
    "model.compile(loss='categorical_crossentropy', optimizer=Adam(lr = 0.0005), metrics=['accuracy'])\n",
    "model.summary()"
   ]
  },
  {
   "cell_type": "code",
   "execution_count": 13,
   "metadata": {},
   "outputs": [
    {
     "name": "stdout",
     "output_type": "stream",
     "text": [
      "WARNING:tensorflow:From /usr/local/Cellar/python3/3.6.3/Frameworks/Python.framework/Versions/3.6/lib/python3.6/site-packages/tensorflow/python/ops/math_ops.py:3066: to_int32 (from tensorflow.python.ops.math_ops) is deprecated and will be removed in a future version.\n",
      "Instructions for updating:\n",
      "Use tf.cast instead.\n",
      "Train on 13035 samples, validate on 1449 samples\n",
      "Epoch 1/10\n",
      "13035/13035 [==============================] - 177s 14ms/step - loss: 1.3052 - acc: 0.6063 - val_loss: 0.5495 - val_acc: 0.9386\n",
      "Epoch 2/10\n",
      "13035/13035 [==============================] - 184s 14ms/step - loss: 0.4733 - acc: 0.9121 - val_loss: 0.2107 - val_acc: 0.9710\n",
      "Epoch 3/10\n",
      "13035/13035 [==============================] - 163s 12ms/step - loss: 0.2563 - acc: 0.9567 - val_loss: 0.1279 - val_acc: 0.9772\n",
      "Epoch 4/10\n",
      "13035/13035 [==============================] - 98s 7ms/step - loss: 0.1645 - acc: 0.9723 - val_loss: 0.0950 - val_acc: 0.9814\n",
      "Epoch 5/10\n",
      "13035/13035 [==============================] - 95s 7ms/step - loss: 0.1217 - acc: 0.9787 - val_loss: 0.0803 - val_acc: 0.9827\n",
      "Epoch 6/10\n",
      "13035/13035 [==============================] - 90s 7ms/step - loss: 0.0934 - acc: 0.9814 - val_loss: 0.0745 - val_acc: 0.9834\n",
      "Epoch 7/10\n",
      "13035/13035 [==============================] - 92s 7ms/step - loss: 0.0721 - acc: 0.9871 - val_loss: 0.0745 - val_acc: 0.9834\n",
      "Epoch 8/10\n",
      "13035/13035 [==============================] - 94s 7ms/step - loss: 0.0628 - acc: 0.9873 - val_loss: 0.0716 - val_acc: 0.9841\n",
      "Epoch 9/10\n",
      "13035/13035 [==============================] - 94s 7ms/step - loss: 0.0527 - acc: 0.9891 - val_loss: 0.0808 - val_acc: 0.9814\n",
      "Epoch 10/10\n",
      "13035/13035 [==============================] - 91s 7ms/step - loss: 0.0453 - acc: 0.9900 - val_loss: 0.0787 - val_acc: 0.9827\n"
     ]
    }
   ],
   "source": [
    "history = model.fit(X_train, Y_train, epochs=10, batch_size= 16, validation_data = (X_test,Y_test))\n",
    "model.save(f\"{models_path}lstm_classif_type.h5\")"
   ]
  },
  {
   "cell_type": "code",
   "execution_count": 15,
   "metadata": {
    "code_folding": [
     0
    ]
   },
   "outputs": [
    {
     "data": {
      "image/png": "[encoded data removed]",
      "text/plain": [
       "<Figure size 432x288 with 2 Axes>"
      ]
     },
     "metadata": {},
     "output_type": "display_data"
    }
   ],
   "source": [
    "#Plot\n",
    "plt.style.use(\"seaborn-darkgrid\")\n",
    "plt.subplot(121)\n",
    "plt.plot(history.history[\"loss\"], label = \"Loss\")\n",
    "plt.plot(history.history[\"val_loss\"], label = \"Validation loss\")\n",
    "plt.xlabel(\"Number of epochs\")\n",
    "plt.ylabel(\"Cross entropy\")\n",
    "plt.legend()\n",
    "\n",
    "plt.subplot(122)\n",
    "plt.plot(history.history[\"acc\"], label = \"Accuracy\")\n",
    "plt.plot(history.history[\"val_acc\"], label = \"Validation accuracy\")\n",
    "plt.ylabel(\"Accuracy\")\n",
    "plt.xlabel(\"Number of epochs\")\n",
    "plt.legend()\n",
    "plt.tight_layout()\n",
    "\n",
    "plt.savefig(f'{graphs_path}loss_accuracy.png')"
   ]
  },
  {
   "cell_type": "code",
   "execution_count": 16,
   "metadata": {},
   "outputs": [],
   "source": [
    "from utils.classif_utils import plot_confusion_matrix"
   ]
  },
  {
   "cell_type": "code",
   "execution_count": 18,
   "metadata": {},
   "outputs": [
    {
     "name": "stdout",
     "output_type": "stream",
     "text": [
      "Confusion matrix, without normalization\n",
      "[[208   0   0   0   3   0   0]\n",
      " [  0 189   0   0   0   0   0]\n",
      " [  3   0 206   0   0   0   0]\n",
      " [  0   2   0 222   0   0   0]\n",
      " [  4   2   0   1 200   4   0]\n",
      " [  0   0   0   0   6 200   0]\n",
      " [  0   0   0   0   0   0 199]]\n"
     ]
    },
    {
     "data": {
      "image/png": "[encoded data removed]",
      "text/plain": [
       "<Figure size 432x288 with 2 Axes>"
      ]
     },
     "metadata": {},
     "output_type": "display_data"
    }
   ],
   "source": [
    "pred = model.predict(X_test)\n",
    "n = len(X_test)\n",
    "\n",
    "lab_pred = np.zeros(n)\n",
    "lab_true = np.zeros(n)\n",
    "\n",
    "for i in range(n):\n",
    "    lab_pred[i] = np.argmax(pred[i])\n",
    "    lab_true[i] = np.argmax(Y_test[i])\n",
    "\n",
    "plot_confusion_matrix(confusion_matrix(lab_true,lab_pred), classes = np.arange(7))"
   ]
  },
  {
   "cell_type": "code",
   "execution_count": 19,
   "metadata": {},
   "outputs": [],
   "source": [
    "import os, sys\n",
    "module_path = os.path.abspath(os.path.join('..'))\n",
    "if module_path not in sys.path:\n",
    "    sys.path.append(module_path)\n",
    "models_path = f'{module_path}/models/'"
   ]
  },
  {
   "cell_type": "code",
   "execution_count": 3,
   "metadata": {},
   "outputs": [
    {
     "name": "stderr",
     "output_type": "stream",
     "text": [
      "Using TensorFlow backend.\n"
     ]
    }
   ],
   "source": [
    "from utils.classif_model import predict\n",
    "import numpy as np"
   ]
  },
  {
   "cell_type": "code",
   "execution_count": 16,
   "metadata": {},
   "outputs": [],
   "source": [
    "test = [\"\", \"I want to listen to techno music\", \"Rate Harry Potter movie zero of 6 \", \n",
    "        \"What will the weather be like tomorow mother fucker ?\", 'I want to book a table for six']\n",
    "test = np.array(test)\n",
    "predictions  = predict(test)"
   ]
  },
  {
   "cell_type": "code",
   "execution_count": 17,
   "metadata": {},
   "outputs": [
    {
     "name": "stdout",
     "output_type": "stream",
     "text": [
      "['' 'I want to listen to techno music'\n",
      " 'Rate Harry Potter movie zero of 6 '\n",
      " 'What will the weather be like tomorow mother fucker ?'\n",
      " 'I want to book a table for six']\n",
      "['SearchCreativeWork', 'PlayMusic', 'RateBook', 'GetWeather', 'BookRestaurant']\n"
     ]
    }
   ],
   "source": [
    "print(test)\n",
    "print(predictions)"
   ]
  },
  {
   "cell_type": "code",
   "execution_count": 18,
   "metadata": {},
   "outputs": [
    {
     "data": {
      "text/plain": [
       "['SearchCreativeWork', 'PlayMusic', 'RateBook', 'GetWeather', 'BookRestaurant']"
      ]
     },
     "execution_count": 18,
     "metadata": {},
     "output_type": "execute_result"
    }
   ],
   "source": [
    "predictions"
   ]
  },
  {
   "cell_type": "code",
   "execution_count": 15,
   "metadata": {},
   "outputs": [
    {
     "name": "stdout",
     "output_type": "stream",
     "text": [
      "3.6.3 (default, Oct  4 2017, 06:09:15) \n",
      "[GCC 4.2.1 Compatible Apple LLVM 9.0.0 (clang-900.0.37)]\n"
     ]
    }
   ],
   "source": [
    "print(sys.version)"
   ]
  },
  {
   "cell_type": "code",
   "execution_count": null,
   "metadata": {},
   "outputs": [],
   "source": []
  }
 ],
 "metadata": {
  "kernelspec": {
   "display_name": "Python 3",
   "language": "python",
   "name": "python3"
  },
  "language_info": {
   "codemirror_mode": {
    "name": "ipython",
    "version": 3
   },
   "file_extension": ".py",
   "mimetype": "text/x-python",
   "name": "python",
   "nbconvert_exporter": "python",
   "pygments_lexer": "ipython3",
   "version": "3.6.3"
  },
  "toc": {
   "base_numbering": 1,
   "nav_menu": {},
   "number_sections": true,
   "sideBar": true,
   "skip_h1_title": false,
   "title_cell": "Table of Contents",
   "title_sidebar": "Contents",
   "toc_cell": false,
   "toc_position": {},
   "toc_section_display": true,
   "toc_window_display": false
  }
 },
 "nbformat": 4,
 "nbformat_minor": 2
}
