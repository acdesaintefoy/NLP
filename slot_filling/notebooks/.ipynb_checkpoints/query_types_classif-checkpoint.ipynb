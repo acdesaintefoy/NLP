{
 "cells": [
  {
   "cell_type": "markdown",
   "metadata": {},
   "source": [
    "## <span style=\"text-decoration : underline\">Import packages and datas<span>"
   ]
  },
  {
   "cell_type": "code",
   "execution_count": 1,
   "metadata": {
    "scrolled": true
   },
   "outputs": [
    {
     "name": "stdout",
     "output_type": "stream",
     "text": [
      "\n",
      "3.6.3 (default, Oct  4 2017, 06:09:15) \n",
      "[GCC 4.2.1 Compatible Apple LLVM 9.0.0 (clang-900.0.37)]\n",
      "\n",
      " 3.6.2 (v3.6.2:5fd33b5926, Jul 16 2017, 20:11:06) \n",
      " [GCC 4.2.1 (Apple Inc. build 5666) (dot 3)]\n"
     ]
    }
   ],
   "source": [
    "import numpy as np\n",
    "import pandas as pd\n",
    "import matplotlib.pyplot as plt\n",
    "import json\n",
    "import sys\n",
    "print ('\\n' + sys.version)\n",
    "print(\"\\n 3.6.2 (v3.6.2:5fd33b5926, Jul 16 2017, 20:11:06) \\n [GCC 4.2.1 (Apple Inc. build 5666) (dot 3)]\")"
   ]
  },
  {
   "cell_type": "code",
   "execution_count": 2,
   "metadata": {},
   "outputs": [],
   "source": [
    "import sys, os, json\n",
    "module_path = os.path.abspath(os.path.join('..'))\n",
    "if module_path not in sys.path:\n",
    "    sys.path.append(module_path)\n",
    "#sys.path.append('/home/claroche/PROJET_ANNEK/Analyse_textuelle')\n",
    "dbs_path = f'{module_path}/query_dbs/'"
   ]
  },
  {
   "cell_type": "code",
   "execution_count": 3,
   "metadata": {},
   "outputs": [],
   "source": [
    "list_files = os.listdir(dbs_path)\n",
    "list_query_type = [file_name.replace('.json','') for file_name in list_files]"
   ]
  },
  {
   "cell_type": "code",
   "execution_count": 5,
   "metadata": {},
   "outputs": [
    {
     "name": "stdout",
     "output_type": "stream",
     "text": [
      "PlayMusic is imported.\n",
      "BookRestaurant is imported.\n",
      "AddToPlaylist is imported.\n",
      "GetWeather is imported.\n",
      "SearchCreativeWork is imported.\n",
      "AllQueries is imported.\n",
      "SearchScreeningEvent is imported.\n",
      "RateBook is imported.\n"
     ]
    }
   ],
   "source": [
    "datasets = []\n",
    "datasets_test = []\n",
    "\n",
    "for i,data in enumerate(list_query_type):\n",
    "    type_of_query = list_query_type[i]\n",
    "   \n",
    "    if i == 4:\n",
    "        pre_data = json.load(open(dbs_path + type_of_query + '.json', encoding = 'latin-1'))\n",
    "        #pre_data_test = json.load(open(dbs_path +type_of_query+'.json'))\n",
    "\n",
    "    else:\n",
    "        pre_data = json.load(open(dbs_path +type_of_query + '.json'))\n",
    "        #pre_data_test = json.load(open(dbs_path +type_of_query+'.json'))\n",
    "    \n",
    "    datasets.append(pre_data)\n",
    "    datasets_test.append(pre_data)\n",
    "    print(data, \"is imported.\")\n"
   ]
  },
  {
   "cell_type": "markdown",
   "metadata": {},
   "source": [
    "## <span style=\"text-decoration : underline\">Alternative data base<span>"
   ]
  },
  {
   "cell_type": "code",
   "execution_count": 6,
   "metadata": {},
   "outputs": [],
   "source": [
    "#Convertir les nombres écrits en nombre\n",
    "def alternative_data_base_(data, type_of_query):\n",
    "    new_data = []\n",
    "    for element in data[type_of_query]:\n",
    "        for key,value in element.items():\n",
    "            list_temp = []\n",
    "            for dico in value:\n",
    "                for word in dico['text'].split(' '):\n",
    "                    unite_dico = {'text' : word}\n",
    "                    if 'entity' in dico.keys():\n",
    "                        unite_dico['entity'] = dico['entity']\n",
    "                    else :\n",
    "                        unite_dico['entity'] = 'None'\n",
    "                    list_temp.append(unite_dico)\n",
    "        new_data.append({'data' : list_temp})\n",
    "    new_data = {type_of_query : new_data}\n",
    "    return(new_data)"
   ]
  },
  {
   "cell_type": "code",
   "execution_count": 8,
   "metadata": {},
   "outputs": [],
   "source": [
    "datasets_split = { i : alternative_data_base_(datasets[i],x) for i,x in enumerate(list_query_type)}\n",
    "datasets_test_split = { i : alternative_data_base_(datasets_test[i],x) for i,x in enumerate(list_query_type)}"
   ]
  },
  {
   "cell_type": "markdown",
   "metadata": {},
   "source": [
    "## <span style=\"text-decoration : underline\">Data reshaping<span>"
   ]
  },
  {
   "cell_type": "code",
   "execution_count": 9,
   "metadata": {},
   "outputs": [],
   "source": [
    "def sum_text(vecteur_text):\n",
    "    output = ''\n",
    "    for word in vecteur_text:\n",
    "        output = output +' '+ word\n",
    "    return(output)"
   ]
  },
  {
   "cell_type": "code",
   "execution_count": 10,
   "metadata": {},
   "outputs": [],
   "source": [
    "def data_reshape(data, type_of_query):\n",
    "    queries_entity = []\n",
    "    future_df = []\n",
    "    i = 0\n",
    "\n",
    "    for element in data[type_of_query]:\n",
    "        temp = ''\n",
    "        temp_entity = []\n",
    "        i+=1\n",
    "        for value in element.values():\n",
    "            for dico in value:\n",
    "                temp_future = [i]\n",
    "                temp_future.append(dico['text'].lower())\n",
    "                if 'entity' in dico.keys():\n",
    "                    temp_entity.append(dico['entity'])\n",
    "                    temp_future.append(dico['entity'])\n",
    "                else :\n",
    "                    temp_future.append('None')\n",
    "                if '' in temp_future:\n",
    "                    temp_future.remove('')\n",
    "                future_df.append(temp_future)\n",
    "    \n",
    "    df = pd.DataFrame(future_df, columns=['query_id','text','entity'])\n",
    "    df.dropna(subset = ['text','entity'], inplace = True)\n",
    "    \n",
    "    queries = df.groupby('query_id').apply(lambda x : sum_text(x.text))\n",
    "        \n",
    "    return({'queries_entity': queries_entity,'df':df})"
   ]
  },
  {
   "cell_type": "code",
   "execution_count": 12,
   "metadata": {},
   "outputs": [],
   "source": [
    "df = { i : data_reshape(datasets_split[i],x) for i,x in enumerate(list_query_type)}\n",
    "df_test = { i : data_reshape(datasets_test_split[i],x) for i,x in enumerate(list_query_type)}\n",
    "list_df = []\n",
    "\n",
    "for i in df.keys():\n",
    "    df_part = pd.DataFrame(df[i]['df'])\n",
    "    df_part['label'] = i\n",
    "    \n",
    "    #col_text = df_part.groupby('query_id').apply(lambda x : sum_text(x.text)).reset_index(name = 'query')['query']\n",
    "    #df_part['text_full'] = col_text\n",
    "    \n",
    "    list_df.append(df_part)\n",
    "\n",
    "data_label = pd.concat(list_df).reset_index()\n"
   ]
  },
  {
   "cell_type": "code",
   "execution_count": 13,
   "metadata": {},
   "outputs": [
    {
     "name": "stdout",
     "output_type": "stream",
     "text": [
      "   index  query_id  text entity  label  \\\n",
      "0      0         1     i   None      0   \n",
      "1      1         1  need   None      0   \n",
      "2      2         1    to   None      0   \n",
      "3      3         1  hear   None      0   \n",
      "4      4         1   the   None      0   \n",
      "\n",
      "                                    full_text  \n",
      "0   rate the lotus and the storm zero of 6 \\n  \n",
      "1   rate the lotus and the storm zero of 6 \\n  \n",
      "2   rate the lotus and the storm zero of 6 \\n  \n",
      "3   rate the lotus and the storm zero of 6 \\n  \n",
      "4   rate the lotus and the storm zero of 6 \\n  \n"
     ]
    },
    {
     "data": {
      "text/html": [
       "<div>\n",
       "<style scoped>\n",
       "    .dataframe tbody tr th:only-of-type {\n",
       "        vertical-align: middle;\n",
       "    }\n",
       "\n",
       "    .dataframe tbody tr th {\n",
       "        vertical-align: top;\n",
       "    }\n",
       "\n",
       "    .dataframe thead th {\n",
       "        text-align: right;\n",
       "    }\n",
       "</style>\n",
       "<table border=\"1\" class=\"dataframe\">\n",
       "  <thead>\n",
       "    <tr style=\"text-align: right;\">\n",
       "      <th></th>\n",
       "      <th>index</th>\n",
       "      <th>query_id</th>\n",
       "      <th>text</th>\n",
       "      <th>entity</th>\n",
       "      <th>label</th>\n",
       "      <th>full_text</th>\n",
       "    </tr>\n",
       "  </thead>\n",
       "  <tbody>\n",
       "    <tr>\n",
       "      <th>265787</th>\n",
       "      <td>31881</td>\n",
       "      <td>2056</td>\n",
       "      <td>the</td>\n",
       "      <td>None</td>\n",
       "      <td>7</td>\n",
       "      <td>rate the current series 4 points</td>\n",
       "    </tr>\n",
       "    <tr>\n",
       "      <th>265788</th>\n",
       "      <td>31883</td>\n",
       "      <td>2056</td>\n",
       "      <td>current</td>\n",
       "      <td>object_select</td>\n",
       "      <td>7</td>\n",
       "      <td>rate the current series 4 points</td>\n",
       "    </tr>\n",
       "    <tr>\n",
       "      <th>265789</th>\n",
       "      <td>31886</td>\n",
       "      <td>2056</td>\n",
       "      <td>series</td>\n",
       "      <td>object_part_of_series_type</td>\n",
       "      <td>7</td>\n",
       "      <td>rate the current series 4 points</td>\n",
       "    </tr>\n",
       "    <tr>\n",
       "      <th>265790</th>\n",
       "      <td>31889</td>\n",
       "      <td>2056</td>\n",
       "      <td>4</td>\n",
       "      <td>rating_value</td>\n",
       "      <td>7</td>\n",
       "      <td>rate the current series 4 points</td>\n",
       "    </tr>\n",
       "    <tr>\n",
       "      <th>265791</th>\n",
       "      <td>31892</td>\n",
       "      <td>2056</td>\n",
       "      <td>points</td>\n",
       "      <td>rating_unit</td>\n",
       "      <td>7</td>\n",
       "      <td>rate the current series 4 points</td>\n",
       "    </tr>\n",
       "  </tbody>\n",
       "</table>\n",
       "</div>"
      ],
      "text/plain": [
       "        index  query_id     text                      entity  label  \\\n",
       "265787  31881      2056      the                        None      7   \n",
       "265788  31883      2056  current               object_select      7   \n",
       "265789  31886      2056   series  object_part_of_series_type      7   \n",
       "265790  31889      2056        4                rating_value      7   \n",
       "265791  31892      2056   points                 rating_unit      7   \n",
       "\n",
       "                                full_text  \n",
       "265787   rate the current series 4 points  \n",
       "265788   rate the current series 4 points  \n",
       "265789   rate the current series 4 points  \n",
       "265790   rate the current series 4 points  \n",
       "265791   rate the current series 4 points  "
      ]
     },
     "execution_count": 13,
     "metadata": {},
     "output_type": "execute_result"
    }
   ],
   "source": [
    "df_full_text = df_part.groupby('query_id').apply(lambda x : pd.Series({\"full_text\":sum_text(x.text)})).reset_index()#['query']\n",
    "\n",
    "test_total = pd.merge(data_label,df_full_text, on = 'query_id', how='left')\n",
    "print(test_total.head())\n",
    "test_total.tail()"
   ]
  },
  {
   "cell_type": "code",
   "execution_count": 14,
   "metadata": {},
   "outputs": [
    {
     "data": {
      "text/html": [
       "<div>\n",
       "<style scoped>\n",
       "    .dataframe tbody tr th:only-of-type {\n",
       "        vertical-align: middle;\n",
       "    }\n",
       "\n",
       "    .dataframe tbody tr th {\n",
       "        vertical-align: top;\n",
       "    }\n",
       "\n",
       "    .dataframe thead th {\n",
       "        text-align: right;\n",
       "    }\n",
       "</style>\n",
       "<table border=\"1\" class=\"dataframe\">\n",
       "  <thead>\n",
       "    <tr style=\"text-align: right;\">\n",
       "      <th></th>\n",
       "      <th>index</th>\n",
       "      <th>query_id</th>\n",
       "      <th>text</th>\n",
       "      <th>entity</th>\n",
       "      <th>label</th>\n",
       "    </tr>\n",
       "  </thead>\n",
       "  <tbody>\n",
       "    <tr>\n",
       "      <th>265787</th>\n",
       "      <td>31881</td>\n",
       "      <td>2056</td>\n",
       "      <td>the</td>\n",
       "      <td>None</td>\n",
       "      <td>7</td>\n",
       "    </tr>\n",
       "    <tr>\n",
       "      <th>265788</th>\n",
       "      <td>31883</td>\n",
       "      <td>2056</td>\n",
       "      <td>current</td>\n",
       "      <td>object_select</td>\n",
       "      <td>7</td>\n",
       "    </tr>\n",
       "    <tr>\n",
       "      <th>265789</th>\n",
       "      <td>31886</td>\n",
       "      <td>2056</td>\n",
       "      <td>series</td>\n",
       "      <td>object_part_of_series_type</td>\n",
       "      <td>7</td>\n",
       "    </tr>\n",
       "    <tr>\n",
       "      <th>265790</th>\n",
       "      <td>31889</td>\n",
       "      <td>2056</td>\n",
       "      <td>4</td>\n",
       "      <td>rating_value</td>\n",
       "      <td>7</td>\n",
       "    </tr>\n",
       "    <tr>\n",
       "      <th>265791</th>\n",
       "      <td>31892</td>\n",
       "      <td>2056</td>\n",
       "      <td>points</td>\n",
       "      <td>rating_unit</td>\n",
       "      <td>7</td>\n",
       "    </tr>\n",
       "  </tbody>\n",
       "</table>\n",
       "</div>"
      ],
      "text/plain": [
       "        index  query_id     text                      entity  label\n",
       "265787  31881      2056      the                        None      7\n",
       "265788  31883      2056  current               object_select      7\n",
       "265789  31886      2056   series  object_part_of_series_type      7\n",
       "265790  31889      2056        4                rating_value      7\n",
       "265791  31892      2056   points                 rating_unit      7"
      ]
     },
     "execution_count": 14,
     "metadata": {},
     "output_type": "execute_result"
    }
   ],
   "source": [
    "data_label.tail()#[data_label.text_full == 'i want to see married to the enemy 2 at a cinema .']\n"
   ]
  },
  {
   "cell_type": "markdown",
   "metadata": {},
   "source": [
    "#### Multilabel target"
   ]
  },
  {
   "cell_type": "code",
   "execution_count": 167,
   "metadata": {},
   "outputs": [],
   "source": [
    "def multi_label(i):\n",
    "    multi_lab = np.zeros(7)\n",
    "    multi_lab[i] = 1\n",
    "    return multi_lab\n",
    "\n",
    "data_label[\"label_multi\"] = np.nan\n",
    "data_label[\"label_multi\"] = data_label[\"label\"].apply(multi_label)\n",
    "data_label.dropna(inplace = True)"
   ]
  },
  {
   "cell_type": "markdown",
   "metadata": {},
   "source": [
    "### Deep learning model"
   ]
  },
  {
   "cell_type": "code",
   "execution_count": 202,
   "metadata": {},
   "outputs": [],
   "source": [
    "from keras.preprocessing.text import Tokenizer\n",
    "from keras.preprocessing.sequence import pad_sequences\n",
    "from keras.layers import Embedding,SpatialDropout1D,LSTM,Dense, Dropout\n",
    "from keras.models import Sequential, load_model\n",
    "from keras.optimizers import Adam\n",
    "from sklearn.model_selection import train_test_split\n",
    "import pickle\n",
    "from sklearn.metrics import confusion_matrix"
   ]
  },
  {
   "cell_type": "code",
   "execution_count": 178,
   "metadata": {},
   "outputs": [],
   "source": [
    "nb_words_max = 50000\n",
    "max_seq_length = 40\n",
    "embedding_dim = 100"
   ]
  },
  {
   "cell_type": "code",
   "execution_count": 179,
   "metadata": {},
   "outputs": [
    {
     "name": "stdout",
     "output_type": "stream",
     "text": [
      "Found 9167 unique tokens.\n",
      "Shape of data tensor: (9411, 40)\n",
      "Shape of label tensor: (9411, 7)\n"
     ]
    }
   ],
   "source": [
    "tokenizer = Tokenizer(num_words=nb_words_max, filters='!\"#$%&()*+,-./:;<=>?@[\\]^_`{|}~', lower=True)\n",
    "tokenizer.fit_on_texts(data_label['text_full'].values)\n",
    "word_index = tokenizer.word_index\n",
    "print('Found %s unique tokens.' % len(word_index))\n",
    "\n",
    "X = tokenizer.texts_to_sequences(data_label['text_full'].values)\n",
    "X = pad_sequences(X, maxlen=max_seq_length)\n",
    "print('Shape of data tensor:', X.shape)\n",
    "\n",
    "Y = np.vstack(data_label['label_multi'].values)\n",
    "print('Shape of label tensor:', Y.shape)\n",
    "\n",
    "X_train, X_test, Y_train, Y_test = train_test_split(X,Y, test_size = 0.10, random_state = 42)"
   ]
  },
  {
   "cell_type": "code",
   "execution_count": 180,
   "metadata": {},
   "outputs": [],
   "source": [
    "# saving tokenizer\n",
    "with open('tokenizer.pickle', 'wb') as handle:\n",
    "    pickle.dump(tokenizer, handle, protocol=pickle.HIGHEST_PROTOCOL)"
   ]
  },
  {
   "cell_type": "code",
   "execution_count": 171,
   "metadata": {
    "collapsed": true
   },
   "outputs": [
    {
     "name": "stdout",
     "output_type": "stream",
     "text": [
      "_________________________________________________________________\n",
      "Layer (type)                 Output Shape              Param #   \n",
      "=================================================================\n",
      "embedding_11 (Embedding)     (None, 40, 100)           5000000   \n",
      "_________________________________________________________________\n",
      "spatial_dropout1d_11 (Spatia (None, 40, 100)           0         \n",
      "_________________________________________________________________\n",
      "lstm_11 (LSTM)               (None, 40)                22560     \n",
      "_________________________________________________________________\n",
      "dropout_3 (Dropout)          (None, 40)                0         \n",
      "_________________________________________________________________\n",
      "dense_7 (Dense)              (None, 7)                 287       \n",
      "=================================================================\n",
      "Total params: 5,022,847\n",
      "Trainable params: 5,022,847\n",
      "Non-trainable params: 0\n",
      "_________________________________________________________________\n"
     ]
    }
   ],
   "source": [
    "model = Sequential()\n",
    "model.add(Embedding(nb_words_max, embedding_dim, input_length=X.shape[1]))\n",
    "model.add(SpatialDropout1D(0.2))\n",
    "model.add(LSTM(40, dropout=0.2, recurrent_dropout=0.2))\n",
    "model.add(Dropout(0.3))\n",
    "model.add(Dense(7, activation='softmax'))\n",
    "model.compile(loss='categorical_crossentropy', optimizer=Adam(lr = 0.0005), metrics=['accuracy'])\n",
    "model.summary()"
   ]
  },
  {
   "cell_type": "code",
   "execution_count": 172,
   "metadata": {},
   "outputs": [
    {
     "name": "stdout",
     "output_type": "stream",
     "text": [
      "Train on 8469 samples, validate on 942 samples\n",
      "Epoch 1/10\n",
      "8469/8469 [==============================] - 48s 6ms/step - loss: 0.9313 - acc: 0.7510 - val_loss: 0.1483 - val_acc: 0.9745\n",
      "Epoch 2/10\n",
      "8469/8469 [==============================] - 46s 5ms/step - loss: 0.1475 - acc: 0.9649 - val_loss: 0.0752 - val_acc: 0.9777\n",
      "Epoch 3/10\n",
      "8469/8469 [==============================] - 46s 5ms/step - loss: 0.0747 - acc: 0.9825 - val_loss: 0.0733 - val_acc: 0.9756\n",
      "Epoch 4/10\n",
      "8469/8469 [==============================] - 45s 5ms/step - loss: 0.0456 - acc: 0.9891 - val_loss: 0.0598 - val_acc: 0.9841\n",
      "Epoch 5/10\n",
      "8469/8469 [==============================] - 46s 5ms/step - loss: 0.0294 - acc: 0.9939 - val_loss: 0.0717 - val_acc: 0.9820\n",
      "Epoch 6/10\n",
      "8469/8469 [==============================] - 45s 5ms/step - loss: 0.0213 - acc: 0.9955 - val_loss: 0.0561 - val_acc: 0.9841\n",
      "Epoch 7/10\n",
      "8469/8469 [==============================] - 45s 5ms/step - loss: 0.0142 - acc: 0.9973 - val_loss: 0.0569 - val_acc: 0.9841\n",
      "Epoch 8/10\n",
      "8469/8469 [==============================] - 46s 5ms/step - loss: 0.0108 - acc: 0.9985 - val_loss: 0.0751 - val_acc: 0.9809\n",
      "Epoch 9/10\n",
      "8469/8469 [==============================] - 46s 5ms/step - loss: 0.0072 - acc: 0.9989 - val_loss: 0.0764 - val_acc: 0.9809\n",
      "Epoch 10/10\n",
      "8469/8469 [==============================] - 46s 5ms/step - loss: 0.0102 - acc: 0.9980 - val_loss: 0.0635 - val_acc: 0.9841\n"
     ]
    }
   ],
   "source": [
    "history = model.fit(X_train, Y_train, epochs=10, batch_size= 16, validation_data = (X_test,Y_test))"
   ]
  },
  {
   "cell_type": "code",
   "execution_count": 173,
   "metadata": {},
   "outputs": [],
   "source": [
    "#model.save(\"lstm_classif_type.h5\")"
   ]
  },
  {
   "cell_type": "code",
   "execution_count": 148,
   "metadata": {},
   "outputs": [
    {
     "data": {
      "image/png": "[encoded data removed]",
      "text/plain": [
       "<Figure size 432x288 with 2 Axes>"
      ]
     },
     "metadata": {},
     "output_type": "display_data"
    }
   ],
   "source": [
    "plt.style.use(\"seaborn-darkgrid\")\n",
    "plt.subplot(121)\n",
    "plt.plot(history.history[\"loss\"], label = \"Loss\")\n",
    "plt.plot(history.history[\"val_loss\"], label = \"Validation loss\")\n",
    "plt.xlabel(\"Number of epochs\")\n",
    "plt.ylabel(\"Cross entropy\")\n",
    "plt.legend()\n",
    "\n",
    "plt.subplot(122)\n",
    "plt.plot(history.history[\"acc\"], label = \"Accuracy\")\n",
    "plt.plot(history.history[\"val_acc\"], label = \"Validation accuracy\")\n",
    "plt.ylabel(\"Accuracy\")\n",
    "plt.xlabel(\"Number of epochs\")\n",
    "plt.legend()\n",
    "plt.tight_layout()\n",
    "\n",
    "plt.savefig('graphs/loss_accuracy.png')"
   ]
  },
  {
   "cell_type": "code",
   "execution_count": 206,
   "metadata": {},
   "outputs": [],
   "source": [
    "import itertools\n",
    "from random import *\n",
    "from sklearn.metrics import accuracy_score\n",
    "\n",
    "def plot_confusion_matrix(cm, classes,\n",
    "                          normalize=False,\n",
    "                          title='Confusion matrix',\n",
    "                          cmap=plt.cm.Blues):\n",
    "    \"\"\"\n",
    "    This function prints and plots the confusion matrix.\n",
    "    Normalization can be applied by setting `normalize=True`.\n",
    "    \"\"\"\n",
    "    if normalize:\n",
    "        cm = cm.astype('float') / cm.sum(axis=1)[:, np.newaxis]\n",
    "        print(\"Normalized confusion matrix\")\n",
    "    else:\n",
    "        print('Confusion matrix, without normalization')\n",
    "\n",
    "    print(cm)\n",
    "\n",
    "    plt.imshow(cm, interpolation='nearest', cmap=cmap)\n",
    "    plt.title(title)\n",
    "    plt.colorbar()\n",
    "    tick_marks = np.arange(len(classes))\n",
    "    plt.xticks(tick_marks, classes, rotation=45)\n",
    "    plt.yticks(tick_marks, classes)\n",
    "\n",
    "    fmt = '.2f' if normalize else 'd'\n",
    "    thresh = cm.max() / 2.\n",
    "    for i, j in itertools.product(range(cm.shape[0]), range(cm.shape[1])):\n",
    "        plt.text(j, i, format(cm[i, j], fmt),\n",
    "                 horizontalalignment=\"center\",\n",
    "                 color=\"white\" if cm[i, j] > thresh else \"black\")\n",
    "\n",
    "    plt.ylabel('True label')\n",
    "    plt.xlabel('Predicted label')\n",
    "    plt.tight_layout()"
   ]
  },
  {
   "cell_type": "code",
   "execution_count": 208,
   "metadata": {},
   "outputs": [
    {
     "name": "stdout",
     "output_type": "stream",
     "text": [
      "Confusion matrix, without normalization\n",
      "[[123   0   0   0   1   0   0]\n",
      " [  0 148   1   1   0   0   0]\n",
      " [  0   0 139   0   3   0   4]\n",
      " [  0   0   0 129   0   0   0]\n",
      " [  1   0   1   0 139   0   0]\n",
      " [  0   0   1   0   0 100   0]\n",
      " [  0   0   1   0   0   1 149]]\n"
     ]
    },
    {
     "data": {
      "image/png": "[encoded data removed]",
      "text/plain": [
       "<Figure size 432x288 with 2 Axes>"
      ]
     },
     "metadata": {},
     "output_type": "display_data"
    }
   ],
   "source": [
    "pred = model.predict(X_test)\n",
    "n = len(X_test)\n",
    "\n",
    "lab_pred = np.zeros(n)\n",
    "lab_true = np.zeros(n)\n",
    "\n",
    "for i in range(n):\n",
    "    lab_pred[i] = np.argmax(pred[i])\n",
    "    lab_true[i] = np.argmax(Y_test[i])\n",
    "\n",
    "plot_confusion_matrix(confusion_matrix(lab_true,lab_pred), classes = np.arange(7))"
   ]
  },
  {
   "cell_type": "code",
   "execution_count": 230,
   "metadata": {},
   "outputs": [],
   "source": [
    "def multi_lab_to_query_type(lab):\n",
    "    return list_of_query_type[np.argmax(lab)]\n",
    "\n",
    "multi_lab_to_query_type_vect = np.vectorize(multi_lab_to_query_type)\n",
    "\n",
    "def predict(query_batch):\n",
    "    # loading tokenizer\n",
    "    with open('models/tokenizer.pickle', 'rb') as handle:\n",
    "        tokenizer = pickle.load(handle)\n",
    "    \n",
    "    X = tokenizer.texts_to_sequences(query_batch)\n",
    "    X = pad_sequences(X, maxlen = 40)\n",
    "    \n",
    "    model = load_model('models/lstm_classif_type.h5')\n",
    "    pred = model.predict(X)\n",
    "    print(pred)\n",
    "    \n",
    "    n = len(X)\n",
    "    lab_pred = np.zeros(n)\n",
    "    \n",
    "    for i in range(n):\n",
    "        lab_pred[i] = np.argmax(pred[i])\n",
    "    \n",
    "    return lab_pred"
   ]
  },
  {
   "cell_type": "code",
   "execution_count": 231,
   "metadata": {},
   "outputs": [
    {
     "name": "stdout",
     "output_type": "stream",
     "text": [
      "[[7.5606279e-02 6.4200498e-02 1.3862565e-01 2.7321883e-02 5.6831449e-01\n",
      "  9.6755363e-02 2.9175835e-02]\n",
      " [2.8729619e-05 4.5836259e-05 6.6307624e-04 1.0617169e-04 9.9913305e-01\n",
      "  2.1941340e-05 1.2383664e-06]\n",
      " [2.0317868e-06 3.6602261e-05 4.0411898e-05 9.9990189e-01 5.7403563e-06\n",
      "  2.3391347e-06 1.0921733e-05]\n",
      " [1.4915326e-05 9.9952304e-01 6.9307430e-06 7.3267911e-06 3.5935445e-06\n",
      "  3.9620360e-08 4.4433348e-04]]\n"
     ]
    },
    {
     "data": {
      "text/plain": [
       "array([4., 4., 3., 1.])"
      ]
     },
     "execution_count": 231,
     "metadata": {},
     "output_type": "execute_result"
    }
   ],
   "source": [
    "test = [\"Francis petite frappe\", \"I want to listen techno music\", \"I'd like to book a table for six\", \n",
    "        \"What will the weather be like tomorow mother fucker ?\"]\n",
    "test = np.array(test)\n",
    "predict(test)"
   ]
  },
  {
   "cell_type": "code",
   "execution_count": null,
   "metadata": {},
   "outputs": [],
   "source": []
  }
 ],
 "metadata": {
  "kernelspec": {
   "display_name": "Python 3",
   "language": "python",
   "name": "python3"
  },
  "language_info": {
   "codemirror_mode": {
    "name": "ipython",
    "version": 3
   },
   "file_extension": ".py",
   "mimetype": "text/x-python",
   "name": "python",
   "nbconvert_exporter": "python",
   "pygments_lexer": "ipython3",
   "version": "3.6.3"
  },
  "toc": {
   "base_numbering": 1,
   "nav_menu": {},
   "number_sections": true,
   "sideBar": true,
   "skip_h1_title": false,
   "title_cell": "Table of Contents",
   "title_sidebar": "Contents",
   "toc_cell": false,
   "toc_position": {},
   "toc_section_display": true,
   "toc_window_display": false
  }
 },
 "nbformat": 4,
 "nbformat_minor": 2
}
