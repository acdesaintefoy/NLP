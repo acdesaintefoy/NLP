{
 "cells": [
  {
   "cell_type": "markdown",
   "metadata": {
    "collapsed": true
   },
   "source": [
    "# Random fields"
   ]
  },
  {
   "cell_type": "code",
   "execution_count": 18,
   "metadata": {},
   "outputs": [
    {
     "name": "stdout",
     "output_type": "stream",
     "text": [
      "['PlayMusic.json', 'BookRestaurant.json', 'AddToPlaylist.json', 'GetWeather.json', 'SearchCreativeWork.json', 'AllQueries.json', 'SearchScreeningEvent.json', 'RateBook.json']\n",
      "['PlayMusic', 'BookRestaurant', 'AddToPlaylist', 'GetWeather', 'SearchCreativeWork', 'AllQueries', 'SearchScreeningEvent', 'RateBook']\n"
     ]
    }
   ],
   "source": [
    "import sys, os, json\n",
    "cwd = os.getcwd()\n",
    "if cwd not in sys.path:\n",
    "    sys.path.append(cwd)\n",
    "from sklearn.model_selection import train_test_split\n",
    "import pycrfsuite\n",
    "#pip install python-crfsuite\n",
    "\n",
    "#c'est dans le dossier utils que j'ai mis un fichier cleaning.py qui contient mes fonctions\n",
    "from utils.cleaning import alternative_data_base, extract_features, get_entities\n",
    "dbs_path = 'query_dbs/'\n",
    "list_files = os.listdir(dbs_path)\n",
    "# je liste les files dans la directory query_dbs\n",
    "print(list_files)\n",
    "list_query_type = [file_name.replace('.json','') for file_name in list_files]\n",
    "# je liste les différents type de query\n",
    "print(list_query_type)"
   ]
  },
  {
   "cell_type": "code",
   "execution_count": 21,
   "metadata": {},
   "outputs": [],
   "source": [
    "number = 0\n",
    "type_of_query = list_query_type[number]\n",
    "data = json.load(open(dbs_path  + type_of_query+ '.json'))[type_of_query]\n",
    "data = alternative_data_base(data)\n",
    "X = [extract_features(query) for query in data]\n",
    "y = [get_entities(query) for query in data]\n",
    "X_train, X_test, y_train, y_test = train_test_split(X, y, test_size=0.2)"
   ]
  },
  {
   "cell_type": "code",
   "execution_count": null,
   "metadata": {},
   "outputs": [],
   "source": [
    "trainer = pycrfsuite.Trainer(verbose=True)\n",
    "# Submit training data to the trainer\n",
    "for xseq, yseq in zip(X_train, y_train):\n",
    "    trainer.append(xseq, yseq)\n",
    "# Set the parameters of the model\n",
    "trainer.set_params({\n",
    "    # coefficient for L1 penalty\n",
    "    'c1': 0.1,\n",
    "    # coefficient for L2 penalty\n",
    "    'c2': 0.01,  \n",
    "    # maximum number of iterations\n",
    "    'max_iterations': 200,\n",
    "    # whether to include transitions that\n",
    "    # are possible, but not observed\n",
    "    'feature.possible_transitions': True\n",
    "})\n",
    "# Provide a file name as a parameter to the train function, such that\n",
    "# the model will be saved to the file when training is finished\n",
    "trainer.train('crf.model')"
   ]
  },
  {
   "cell_type": "code",
   "execution_count": null,
   "metadata": {
    "scrolled": true
   },
   "outputs": [],
   "source": [
    "tagger = pycrfsuite.Tagger()\n",
    "tagger.open('crf.model')\n",
    "y_pred = [tagger.tag(xseq) for xseq in X_test]\n",
    "\n",
    "# Let's take a look at a random sample in the testing set\n",
    "i = 10\n",
    "for x, y in zip(y_pred[i], [x[1].split(\"=\")[1] for x in X_test[i]]):\n",
    "    print(\"%s (%s)\" % (y, x))"
   ]
  }
 ],
 "metadata": {
  "kernelspec": {
   "display_name": "Python 3",
   "language": "python",
   "name": "python3"
  },
  "language_info": {
   "codemirror_mode": {
    "name": "ipython",
    "version": 3
   },
   "file_extension": ".py",
   "mimetype": "text/x-python",
   "name": "python",
   "nbconvert_exporter": "python",
   "pygments_lexer": "ipython3",
   "version": "3.6.3"
  },
  "toc": {
   "base_numbering": 1,
   "nav_menu": {},
   "number_sections": true,
   "sideBar": true,
   "skip_h1_title": false,
   "title_cell": "Table of Contents",
   "title_sidebar": "Contents",
   "toc_cell": false,
   "toc_position": {},
   "toc_section_display": true,
   "toc_window_display": false
  }
 },
 "nbformat": 4,
 "nbformat_minor": 2
}
