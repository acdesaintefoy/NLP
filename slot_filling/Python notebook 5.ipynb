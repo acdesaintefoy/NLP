{
 "cells": [
  {
   "cell_type": "markdown",
   "metadata": {},
   "source": [
    "# Challenge slot-filling\n",
    "<hr style=\"border-width:2px;border-color:#A93226\">"
   ]
  },
  {
   "cell_type": "markdown",
   "metadata": {},
   "source": [
    "## Introduction\n",
    "\n",
    "> \n",
    "The problem of this challenge is to determine the way a word has one meaning or another.\n",
    "    For instance after \"Are you ...\" in my every-day conversations I can often find feelings such as \"fine\", \"sad\", \"hungry\"or \"happy\".\n",
    "    Sometimes we hear a conversation and we miss a single word, then by knowing the words before and after (and frequently a noise that sounds like the missing word) we manage to reconstitute the whole sentence.\n",
    "    I decide to make the algorithm on the same process. The algorithm looks one after the other words in the query and find a probability vectors for the different meanings by taking in account the words around.\n",
    "\n",
    "\n",
    "- Create an alternative data base\n",
    "- Data reshaping to increase the amount of data\n",
    "- Data cleaning with nlp processes\n",
    "- Analysis of the data base to avoid important stop words\n",
    "- Probability model\n",
    "- Error Analysis\n",
    "- Conclusion and ideas to improve performance"
   ]
  },
  {
   "cell_type": "markdown",
   "metadata": {},
   "source": [
    "## <span style=\"text-decoration : underline\">Import packages and datas<span>"
   ]
  },
  {
   "cell_type": "code",
   "execution_count": 2,
   "metadata": {
    "scrolled": true
   },
   "outputs": [
    {
     "name": "stdout",
     "output_type": "stream",
     "text": [
      "\n",
      "3.6.3 (default, Oct  4 2017, 06:09:15) \n",
      "[GCC 4.2.1 Compatible Apple LLVM 9.0.0 (clang-900.0.37)]\n",
      "\n",
      " 3.6.2 (v3.6.2:5fd33b5926, Jul 16 2017, 20:11:06) \n",
      " [GCC 4.2.1 (Apple Inc. build 5666) (dot 3)]\n"
     ]
    },
    {
     "name": "stderr",
     "output_type": "stream",
     "text": [
      "[nltk_data] Downloading package punkt to /Users/francois/nltk_data...\n",
      "[nltk_data]   Package punkt is already up-to-date!\n"
     ]
    }
   ],
   "source": [
    "import numpy as np\n",
    "import pandas as pd\n",
    "import matplotlib.pyplot as plt\n",
    "import re\n",
    "import json\n",
    "from pprint import pprint\n",
    "import nltk\n",
    "nltk.download('punkt')\n",
    "from nltk.stem import PorterStemmer\n",
    "from nltk.corpus import stopwords\n",
    "from nltk.tokenize import RegexpTokenizer\n",
    "from wordcloud import WordCloud, STOPWORDS\n",
    "import sys\n",
    "print ('\\n' + sys.version)\n",
    "print(\"\\n 3.6.2 (v3.6.2:5fd33b5926, Jul 16 2017, 20:11:06) \\n [GCC 4.2.1 (Apple Inc. build 5666) (dot 3)]\")"
   ]
  },
  {
   "cell_type": "markdown",
   "metadata": {},
   "source": [
    "<hr style=\"border-width:2px;border-color:#A93226\">"
   ]
  },
  {
   "cell_type": "markdown",
   "metadata": {},
   "source": [
    "Choose the type of the query by changing the number bellow in the range [0,6]. <br>Examples in the conclusion are made for number = 0 ie 'AddToPlaylist' type of query."
   ]
  },
  {
   "cell_type": "code",
   "execution_count": 12,
   "metadata": {},
   "outputs": [],
   "source": [
    "number = 0\n",
    "list_of_query_type = ['AddToPlaylist','GetWeather','SearchCreativeWork' , 'BookRestaurant','PlayMusic','RateBook' ,'SearchScreeningEvent']\n",
    "type_of_query = list_of_query_type[number]\n",
    "\n",
    "pre_data = json.load(open(type_of_query+'_queries.json'))\n",
    "pre_data_test = json.load(open(type_of_query+'_test.json'))"
   ]
  },
  {
   "cell_type": "code",
   "execution_count": 13,
   "metadata": {},
   "outputs": [],
   "source": [
    "#pprint(data_test)"
   ]
  },
  {
   "cell_type": "markdown",
   "metadata": {},
   "source": [
    "## <span style=\"text-decoration : underline\">Alternative data base<span>"
   ]
  },
  {
   "cell_type": "markdown",
   "metadata": {},
   "source": [
    "Instead of having a small sentence that is refering to an entity, I choose to split this small sentence to associate each words of it to its entity.\n",
    "As a consequence 'What will be the weather like' and 'Will the weather be like', because they have similar words, will increase the amount of data and avoid the case of a never-seen-before sentence"
   ]
  },
  {
   "cell_type": "code",
   "execution_count": 14,
   "metadata": {},
   "outputs": [],
   "source": [
    "#Convertir les nombres écrits en nombre\n",
    "def alternative_data_base(data):\n",
    "    new_data = []\n",
    "    for element in data[type_of_query]:\n",
    "        for key,value in element.items():\n",
    "            list_temp = []\n",
    "            for dico in value:\n",
    "                for word in dico['text'].split(' '):\n",
    "                    unite_dico = {'text' : word}\n",
    "                    if 'entity' in dico.keys():\n",
    "                        unite_dico['entity'] = dico['entity']\n",
    "                    else :\n",
    "                        unite_dico['entity'] = 'None'\n",
    "                    list_temp.append(unite_dico)\n",
    "        new_data.append({'data' : list_temp})\n",
    "    new_data = {type_of_query : new_data}\n",
    "    return(new_data)"
   ]
  },
  {
   "cell_type": "code",
   "execution_count": 15,
   "metadata": {},
   "outputs": [],
   "source": [
    "data = alternative_data_base(pre_data)\n",
    "data_test = alternative_data_base(pre_data_test)"
   ]
  },
  {
   "cell_type": "markdown",
   "metadata": {},
   "source": [
    "## <span style=\"text-decoration : underline\">Data Cleaning <span>"
   ]
  },
  {
   "cell_type": "markdown",
   "metadata": {},
   "source": [
    "I choose not to use the stop.words list in the library nltk because it removes important link words such as 'to' , 'in' ... that indicates to the algorithm the entities possible before and after.\n",
    "A new type of query could be add, and the algorithm keeps working."
   ]
  },
  {
   "cell_type": "code",
   "execution_count": 17,
   "metadata": {},
   "outputs": [],
   "source": [
    "common_list = ['the','a','this','another','please','.','?',',','can','you','an','me',\"I'd\",'I','want','wanted','would','like'] \n",
    "dico_stop_words ={'AddToPlaylist' : common_list\n",
    "                  , 'GetWeather' : common_list ,'RateBook':common_list, 'PlayMusic' :common_list, \n",
    "                  'PlayMusic' : common_list, 'SearchScreeningEvent': common_list}"
   ]
  },
  {
   "cell_type": "markdown",
   "metadata": {},
   "source": [
    "## <span style=\"text-decoration : underline\">Data reshaping<span>"
   ]
  },
  {
   "cell_type": "code",
   "execution_count": 18,
   "metadata": {},
   "outputs": [],
   "source": [
    "def sum_text(vecteur_text):\n",
    "    output = ''\n",
    "    for word in vecteur_text:\n",
    "        output = output +' '+ word\n",
    "    return(output)"
   ]
  },
  {
   "cell_type": "code",
   "execution_count": 19,
   "metadata": {},
   "outputs": [],
   "source": [
    "def data_reshape(data):\n",
    "    ps = PorterStemmer()\n",
    "    queries_entity = []\n",
    "    future_df = []\n",
    "    i = 0\n",
    "\n",
    "    for element in data[type_of_query]:\n",
    "        temp = ''\n",
    "        temp_entity = []\n",
    "        i+=1\n",
    "        for value in element.values():\n",
    "            for dico in value:\n",
    "                temp_future = [i]\n",
    "                temp += ps.stem(dico['text'])+' '\n",
    "                temp_future.append(dico['text'].lower())\n",
    "                if 'entity' in dico.keys():\n",
    "                    temp_entity.append(dico['entity'])\n",
    "                    temp_future.append(dico['entity'])\n",
    "                else :\n",
    "                    temp_future.append('None')\n",
    "                if '' in temp_future:\n",
    "                    temp_future.remove('')\n",
    "                future_df.append(temp_future)\n",
    "    \n",
    "    df = pd.DataFrame(future_df, columns=['query_id','text','entity'])\n",
    "    df.dropna(subset = ['text','entity'], inplace = True)\n",
    "    \n",
    "    #We remove here stop words specificaly for each type of query\n",
    "    df = df[~df.text.isin(dico_stop_words[type_of_query])]\n",
    "    \n",
    "    queries = df.groupby('query_id').apply(lambda x : sum_text(x.text))\n",
    "        \n",
    "    return({'queries_entity': queries_entity,'df':df})"
   ]
  },
  {
   "cell_type": "markdown",
   "metadata": {},
   "source": [
    "I create the data bases on which I train the algorithm and then test it. I decided to had the entity 'None' as a string to make a single type column and fill the empty entity variable of the words without \"meaning\" in the raw data base."
   ]
  },
  {
   "cell_type": "code",
   "execution_count": 20,
   "metadata": {},
   "outputs": [],
   "source": [
    "df = data_reshape(data)['df']\n",
    "df_test = data_reshape(data_test)['df']"
   ]
  },
  {
   "cell_type": "markdown",
   "metadata": {},
   "source": [
    "Here is the queries cleaned :"
   ]
  },
  {
   "cell_type": "code",
   "execution_count": 21,
   "metadata": {},
   "outputs": [
    {
     "data": {
      "text/html": [
       "<div>\n",
       "<style scoped>\n",
       "    .dataframe tbody tr th:only-of-type {\n",
       "        vertical-align: middle;\n",
       "    }\n",
       "\n",
       "    .dataframe tbody tr th {\n",
       "        vertical-align: top;\n",
       "    }\n",
       "\n",
       "    .dataframe thead th {\n",
       "        text-align: right;\n",
       "    }\n",
       "</style>\n",
       "<table border=\"1\" class=\"dataframe\">\n",
       "  <thead>\n",
       "    <tr style=\"text-align: right;\">\n",
       "      <th></th>\n",
       "      <th>query_id</th>\n",
       "      <th>query</th>\n",
       "    </tr>\n",
       "  </thead>\n",
       "  <tbody>\n",
       "    <tr>\n",
       "      <th>0</th>\n",
       "      <td>1</td>\n",
       "      <td>add song to cita romántica playlist.</td>\n",
       "    </tr>\n",
       "    <tr>\n",
       "      <th>1</th>\n",
       "      <td>2</td>\n",
       "      <td>add clem burke in my playlist pre-party r&amp;b jams</td>\n",
       "    </tr>\n",
       "    <tr>\n",
       "      <th>2</th>\n",
       "      <td>3</td>\n",
       "      <td>add live from aragon ballroom to trapeo</td>\n",
       "    </tr>\n",
       "    <tr>\n",
       "      <th>3</th>\n",
       "      <td>4</td>\n",
       "      <td>add unite and win to my night out</td>\n",
       "    </tr>\n",
       "    <tr>\n",
       "      <th>4</th>\n",
       "      <td>5</td>\n",
       "      <td>add track to my digster future hits</td>\n",
       "    </tr>\n",
       "    <tr>\n",
       "      <th>5</th>\n",
       "      <td>6</td>\n",
       "      <td>add piano bar to my cindy wilson</td>\n",
       "    </tr>\n",
       "    <tr>\n",
       "      <th>6</th>\n",
       "      <td>7</td>\n",
       "      <td>add spanish harlem incident to cleaning house</td>\n",
       "    </tr>\n",
       "    <tr>\n",
       "      <th>7</th>\n",
       "      <td>8</td>\n",
       "      <td>add greyest of blue skies in indie español my...</td>\n",
       "    </tr>\n",
       "    <tr>\n",
       "      <th>8</th>\n",
       "      <td>9</td>\n",
       "      <td>add name kids in street to plylist new indie mix</td>\n",
       "    </tr>\n",
       "    <tr>\n",
       "      <th>9</th>\n",
       "      <td>10</td>\n",
       "      <td>add album radar latino</td>\n",
       "    </tr>\n",
       "    <tr>\n",
       "      <th>10</th>\n",
       "      <td>11</td>\n",
       "      <td>add tranquility to latin pop rising playlist.</td>\n",
       "    </tr>\n",
       "    <tr>\n",
       "      <th>11</th>\n",
       "      <td>12</td>\n",
       "      <td>add d flame to dcode2016 playlist.</td>\n",
       "    </tr>\n",
       "    <tr>\n",
       "      <th>12</th>\n",
       "      <td>13</td>\n",
       "      <td>add album to my fairy tales</td>\n",
       "    </tr>\n",
       "    <tr>\n",
       "      <th>13</th>\n",
       "      <td>14</td>\n",
       "      <td>i need artist in new indie mix playlist.</td>\n",
       "    </tr>\n",
       "    <tr>\n",
       "      <th>14</th>\n",
       "      <td>15</td>\n",
       "      <td>add to playlist i love my neo soul name natio...</td>\n",
       "    </tr>\n",
       "    <tr>\n",
       "      <th>15</th>\n",
       "      <td>16</td>\n",
       "      <td>add fire and wind to my digster future hits p...</td>\n",
       "    </tr>\n",
       "    <tr>\n",
       "      <th>16</th>\n",
       "      <td>17</td>\n",
       "      <td>add caleigh peters to my women of country list</td>\n",
       "    </tr>\n",
       "    <tr>\n",
       "      <th>17</th>\n",
       "      <td>18</td>\n",
       "      <td>add children of telepathic experiences to pla...</td>\n",
       "    </tr>\n",
       "    <tr>\n",
       "      <th>18</th>\n",
       "      <td>19</td>\n",
       "      <td>add 9th inning to my bossa nova dinner playlist</td>\n",
       "    </tr>\n",
       "    <tr>\n",
       "      <th>19</th>\n",
       "      <td>20</td>\n",
       "      <td>i need tune in my legendary guitar solos play...</td>\n",
       "    </tr>\n",
       "    <tr>\n",
       "      <th>20</th>\n",
       "      <td>21</td>\n",
       "      <td>add slimm cutta calhoun to my is prince playl...</td>\n",
       "    </tr>\n",
       "    <tr>\n",
       "      <th>21</th>\n",
       "      <td>22</td>\n",
       "      <td>add always to dena's baroque 50 spotify picks...</td>\n",
       "    </tr>\n",
       "    <tr>\n",
       "      <th>22</th>\n",
       "      <td>23</td>\n",
       "      <td>add song to sleepytime</td>\n",
       "    </tr>\n",
       "    <tr>\n",
       "      <th>23</th>\n",
       "      <td>24</td>\n",
       "      <td>add album to my list la mejor música dance 2017</td>\n",
       "    </tr>\n",
       "    <tr>\n",
       "      <th>24</th>\n",
       "      <td>25</td>\n",
       "      <td>add hey, johnnie cope, are ye waking yet to y...</td>\n",
       "    </tr>\n",
       "    <tr>\n",
       "      <th>25</th>\n",
       "      <td>26</td>\n",
       "      <td>add album to psychedelic rock playlist</td>\n",
       "    </tr>\n",
       "    <tr>\n",
       "      <th>26</th>\n",
       "      <td>27</td>\n",
       "      <td>add esquivando charcos to my playlist entitle...</td>\n",
       "    </tr>\n",
       "    <tr>\n",
       "      <th>27</th>\n",
       "      <td>28</td>\n",
       "      <td>add wiktor coj to sleep playlist.</td>\n",
       "    </tr>\n",
       "    <tr>\n",
       "      <th>28</th>\n",
       "      <td>29</td>\n",
       "      <td>incorporate time warp into my fairy tales pla...</td>\n",
       "    </tr>\n",
       "    <tr>\n",
       "      <th>29</th>\n",
       "      <td>30</td>\n",
       "      <td>add maksim tune to trad folk</td>\n",
       "    </tr>\n",
       "    <tr>\n",
       "      <th>...</th>\n",
       "      <td>...</td>\n",
       "      <td>...</td>\n",
       "    </tr>\n",
       "    <tr>\n",
       "      <th>1912</th>\n",
       "      <td>1913</td>\n",
       "      <td>add tim ryan to my grime shutdown playlist</td>\n",
       "    </tr>\n",
       "    <tr>\n",
       "      <th>1913</th>\n",
       "      <td>1914</td>\n",
       "      <td>put tune onto erin's house afterwork playlist?</td>\n",
       "    </tr>\n",
       "    <tr>\n",
       "      <th>1914</th>\n",
       "      <td>1915</td>\n",
       "      <td>make addition to old enough to enjoy playlist...</td>\n",
       "    </tr>\n",
       "    <tr>\n",
       "      <th>1915</th>\n",
       "      <td>1916</td>\n",
       "      <td>add artist to latin pop hits</td>\n",
       "    </tr>\n",
       "    <tr>\n",
       "      <th>1916</th>\n",
       "      <td>1917</td>\n",
       "      <td>play used to love her to my is animal collect...</td>\n",
       "    </tr>\n",
       "    <tr>\n",
       "      <th>1917</th>\n",
       "      <td>1918</td>\n",
       "      <td>add guy warren to my bossa nova dinner playlist.</td>\n",
       "    </tr>\n",
       "    <tr>\n",
       "      <th>1918</th>\n",
       "      <td>1919</td>\n",
       "      <td>add arthur russell to my women of disco playl...</td>\n",
       "    </tr>\n",
       "    <tr>\n",
       "      <th>1919</th>\n",
       "      <td>1920</td>\n",
       "      <td>add francesco de gregori to my classical new ...</td>\n",
       "    </tr>\n",
       "    <tr>\n",
       "      <th>1920</th>\n",
       "      <td>1921</td>\n",
       "      <td>play suus to my funny thing about football is...</td>\n",
       "    </tr>\n",
       "    <tr>\n",
       "      <th>1921</th>\n",
       "      <td>1922</td>\n",
       "      <td>add outside dream syndicate to millicent's fr...</td>\n",
       "    </tr>\n",
       "    <tr>\n",
       "      <th>1922</th>\n",
       "      <td>1923</td>\n",
       "      <td>add tune to duetos playlist</td>\n",
       "    </tr>\n",
       "    <tr>\n",
       "      <th>1923</th>\n",
       "      <td>1924</td>\n",
       "      <td>put playa fly onto my 2010 decade playlist</td>\n",
       "    </tr>\n",
       "    <tr>\n",
       "      <th>1924</th>\n",
       "      <td>1925</td>\n",
       "      <td>add that was only yesterday last ep to my aft...</td>\n",
       "    </tr>\n",
       "    <tr>\n",
       "      <th>1925</th>\n",
       "      <td>1926</td>\n",
       "      <td>i to put artist in mellowed out gaming</td>\n",
       "    </tr>\n",
       "    <tr>\n",
       "      <th>1926</th>\n",
       "      <td>1927</td>\n",
       "      <td>add rachael price album to todo edm</td>\n",
       "    </tr>\n",
       "    <tr>\n",
       "      <th>1927</th>\n",
       "      <td>1928</td>\n",
       "      <td>put strange days onto fusion fest playlist.</td>\n",
       "    </tr>\n",
       "    <tr>\n",
       "      <th>1928</th>\n",
       "      <td>1929</td>\n",
       "      <td>add track to my flamenco pa ti</td>\n",
       "    </tr>\n",
       "    <tr>\n",
       "      <th>1929</th>\n",
       "      <td>1930</td>\n",
       "      <td>add philip labonte to women of r&amp;b playlist</td>\n",
       "    </tr>\n",
       "    <tr>\n",
       "      <th>1930</th>\n",
       "      <td>1931</td>\n",
       "      <td>add kisaki to family road trip playlist</td>\n",
       "    </tr>\n",
       "    <tr>\n",
       "      <th>1931</th>\n",
       "      <td>1932</td>\n",
       "      <td>add volver to my pop gaming playlist</td>\n",
       "    </tr>\n",
       "    <tr>\n",
       "      <th>1932</th>\n",
       "      <td>1933</td>\n",
       "      <td>put ramy ayach on latin pop rising</td>\n",
       "    </tr>\n",
       "    <tr>\n",
       "      <th>1933</th>\n",
       "      <td>1934</td>\n",
       "      <td>add current artist to my sxsw latin</td>\n",
       "    </tr>\n",
       "    <tr>\n",
       "      <th>1934</th>\n",
       "      <td>1935</td>\n",
       "      <td>add tune to my country playlist</td>\n",
       "    </tr>\n",
       "    <tr>\n",
       "      <th>1935</th>\n",
       "      <td>1936</td>\n",
       "      <td>put nothing remains same on my summer music p...</td>\n",
       "    </tr>\n",
       "    <tr>\n",
       "      <th>1936</th>\n",
       "      <td>1937</td>\n",
       "      <td>add flying to my women of rock playlist</td>\n",
       "    </tr>\n",
       "    <tr>\n",
       "      <th>1937</th>\n",
       "      <td>1938</td>\n",
       "      <td>i'd to put ryō yamazaki onto my sylvia plath ...</td>\n",
       "    </tr>\n",
       "    <tr>\n",
       "      <th>1938</th>\n",
       "      <td>1939</td>\n",
       "      <td>add sweets edison to relaxing playlist</td>\n",
       "    </tr>\n",
       "    <tr>\n",
       "      <th>1939</th>\n",
       "      <td>1940</td>\n",
       "      <td>add ana carolina to chill</td>\n",
       "    </tr>\n",
       "    <tr>\n",
       "      <th>1940</th>\n",
       "      <td>1941</td>\n",
       "      <td>add decade in sun best of stereophonics to la...</td>\n",
       "    </tr>\n",
       "    <tr>\n",
       "      <th>1941</th>\n",
       "      <td>1942</td>\n",
       "      <td>add artist to my friendesemana playlist</td>\n",
       "    </tr>\n",
       "  </tbody>\n",
       "</table>\n",
       "<p>1942 rows × 2 columns</p>\n",
       "</div>"
      ],
      "text/plain": [
       "      query_id                                              query\n",
       "0            1               add song to cita romántica playlist.\n",
       "1            2   add clem burke in my playlist pre-party r&b jams\n",
       "2            3            add live from aragon ballroom to trapeo\n",
       "3            4                  add unite and win to my night out\n",
       "4            5                add track to my digster future hits\n",
       "5            6                   add piano bar to my cindy wilson\n",
       "6            7      add spanish harlem incident to cleaning house\n",
       "7            8   add greyest of blue skies in indie español my...\n",
       "8            9   add name kids in street to plylist new indie mix\n",
       "9           10                             add album radar latino\n",
       "10          11      add tranquility to latin pop rising playlist.\n",
       "11          12                 add d flame to dcode2016 playlist.\n",
       "12          13                        add album to my fairy tales\n",
       "13          14           i need artist in new indie mix playlist.\n",
       "14          15   add to playlist i love my neo soul name natio...\n",
       "15          16   add fire and wind to my digster future hits p...\n",
       "16          17     add caleigh peters to my women of country list\n",
       "17          18   add children of telepathic experiences to pla...\n",
       "18          19    add 9th inning to my bossa nova dinner playlist\n",
       "19          20   i need tune in my legendary guitar solos play...\n",
       "20          21   add slimm cutta calhoun to my is prince playl...\n",
       "21          22   add always to dena's baroque 50 spotify picks...\n",
       "22          23                             add song to sleepytime\n",
       "23          24    add album to my list la mejor música dance 2017\n",
       "24          25   add hey, johnnie cope, are ye waking yet to y...\n",
       "25          26             add album to psychedelic rock playlist\n",
       "26          27   add esquivando charcos to my playlist entitle...\n",
       "27          28                  add wiktor coj to sleep playlist.\n",
       "28          29   incorporate time warp into my fairy tales pla...\n",
       "29          30                       add maksim tune to trad folk\n",
       "...        ...                                                ...\n",
       "1912      1913         add tim ryan to my grime shutdown playlist\n",
       "1913      1914     put tune onto erin's house afterwork playlist?\n",
       "1914      1915   make addition to old enough to enjoy playlist...\n",
       "1915      1916                       add artist to latin pop hits\n",
       "1916      1917   play used to love her to my is animal collect...\n",
       "1917      1918   add guy warren to my bossa nova dinner playlist.\n",
       "1918      1919   add arthur russell to my women of disco playl...\n",
       "1919      1920   add francesco de gregori to my classical new ...\n",
       "1920      1921   play suus to my funny thing about football is...\n",
       "1921      1922   add outside dream syndicate to millicent's fr...\n",
       "1922      1923                        add tune to duetos playlist\n",
       "1923      1924         put playa fly onto my 2010 decade playlist\n",
       "1924      1925   add that was only yesterday last ep to my aft...\n",
       "1925      1926             i to put artist in mellowed out gaming\n",
       "1926      1927                add rachael price album to todo edm\n",
       "1927      1928        put strange days onto fusion fest playlist.\n",
       "1928      1929                     add track to my flamenco pa ti\n",
       "1929      1930        add philip labonte to women of r&b playlist\n",
       "1930      1931            add kisaki to family road trip playlist\n",
       "1931      1932               add volver to my pop gaming playlist\n",
       "1932      1933                 put ramy ayach on latin pop rising\n",
       "1933      1934                add current artist to my sxsw latin\n",
       "1934      1935                    add tune to my country playlist\n",
       "1935      1936   put nothing remains same on my summer music p...\n",
       "1936      1937            add flying to my women of rock playlist\n",
       "1937      1938   i'd to put ryō yamazaki onto my sylvia plath ...\n",
       "1938      1939             add sweets edison to relaxing playlist\n",
       "1939      1940                          add ana carolina to chill\n",
       "1940      1941   add decade in sun best of stereophonics to la...\n",
       "1941      1942            add artist to my friendesemana playlist\n",
       "\n",
       "[1942 rows x 2 columns]"
      ]
     },
     "execution_count": 21,
     "metadata": {},
     "output_type": "execute_result"
    }
   ],
   "source": [
    "df.groupby('query_id').apply(lambda x : sum_text(x.text)).reset_index(name = 'query')"
   ]
  },
  {
   "cell_type": "markdown",
   "metadata": {},
   "source": [
    "I create a list of all entities. It is usefull to create the column of the training dataframe"
   ]
  },
  {
   "cell_type": "code",
   "execution_count": 22,
   "metadata": {},
   "outputs": [
    {
     "data": {
      "text/plain": [
       "['None', 'music_item', 'playlist_owner', 'playlist', 'entity_name', 'artist']"
      ]
     },
     "execution_count": 22,
     "metadata": {},
     "output_type": "execute_result"
    }
   ],
   "source": [
    "all_queries_entity = df_test.entity.unique()\n",
    "list(all_queries_entity)"
   ]
  },
  {
   "cell_type": "markdown",
   "metadata": {},
   "source": [
    ">By looking the data base, I can see that after the word \"add\", there are a lots of artist, entity or music_item.\n",
    "I want to apply this argument to the whole data_base and put probability of presence."
   ]
  },
  {
   "cell_type": "markdown",
   "metadata": {},
   "source": [
    "$\\text{add_col}$ is a function that iterate on row to see what entity is before for each text element of each query"
   ]
  },
  {
   "cell_type": "code",
   "execution_count": 23,
   "metadata": {
    "scrolled": true
   },
   "outputs": [],
   "source": [
    "def add_col(df):\n",
    "    query_id = 0\n",
    "    entity_before = ''\n",
    "    entity_before_list = []\n",
    "    for index, row in df.iterrows():\n",
    "        if row.query_id == query_id :\n",
    "            entity_before_list.append(entity_before)\n",
    "        else :\n",
    "            entity_before = ''\n",
    "            entity_before_list.append(entity_before)\n",
    "            query_id = row.query_id\n",
    "        entity_before = row.entity\n",
    "    return(entity_before_list)"
   ]
  },
  {
   "cell_type": "markdown",
   "metadata": {},
   "source": [
    "To know for each row what is the entity of the word after, I inverse the index of the data frame and apply the same function.\n",
    "Then reinverse the index."
   ]
  },
  {
   "cell_type": "code",
   "execution_count": 24,
   "metadata": {},
   "outputs": [],
   "source": [
    "df['entity_before'] = add_col(df)\n",
    "df = df.iloc[::-1]\n",
    "df['entity_after'] = add_col(df)\n",
    "df = df.iloc[::-1]"
   ]
  },
  {
   "cell_type": "markdown",
   "metadata": {},
   "source": [
    "## <span style=\"text-decoration : underline\">Data base analysis<span>"
   ]
  },
  {
   "cell_type": "markdown",
   "metadata": {},
   "source": [
    "Wordcloud is a very basic data visualization in nlp, and I should make a wordcloud that links the word between each others."
   ]
  },
  {
   "cell_type": "code",
   "execution_count": 25,
   "metadata": {},
   "outputs": [
    {
     "data": {
      "text/plain": [
       "'The quick brown fox'"
      ]
     },
     "execution_count": 25,
     "metadata": {},
     "output_type": "execute_result"
    }
   ],
   "source": [
    "re.sub(' +',' ','The     quick brown    fox')"
   ]
  },
  {
   "cell_type": "code",
   "execution_count": 26,
   "metadata": {},
   "outputs": [
    {
     "data": {
      "image/png": "[encoded data removed]",
      "text/plain": [
       "<Figure size 864x720 with 1 Axes>"
      ]
     },
     "metadata": {
      "needs_background": "light"
     },
     "output_type": "display_data"
    }
   ],
   "source": [
    "fig, ax = plt.subplots(figsize=(12,10))\n",
    "wordcloud = WordCloud(\n",
    "                          stopwords= [],\n",
    "                          background_color='white',\n",
    "                          width=1200,\n",
    "                          height=1000\n",
    "                         ).generate(re.sub(' +',' ',sum_text(df.text)))   #remove multiple spaces in the strinf\n",
    "\n",
    "plt.imshow(wordcloud)\n",
    "plt.axis('off')\n",
    "plt.show()"
   ]
  },
  {
   "cell_type": "markdown",
   "metadata": {},
   "source": [
    "Here we can guess that the \"word\" is a wrong stop word for the GetWeather data base.<br>\n",
    "In SearchScreeningEvent, the range of size of the words is small, we can guess the error will be bigger than for the others type of query."
   ]
  },
  {
   "cell_type": "markdown",
   "metadata": {},
   "source": [
    "## <span style=\"text-decoration : underline\">Probability model<span> <br><br>\n",
    "\n",
    "> \n",
    "Giving a $query = (word_1, word_2, ..., word_n)\\text{ , } word_i \\in \\Omega_{word}$ and <br><br>$\\Omega_{entity}$ the space of all possible entities for a given type of query.\n",
    ">\n",
    "Let : $$ word,query \\mapsto meaning(word,query)$$ <br><br>be the function that give the entity of the word in the query.\n",
    "The problem is to find :<br><br> $$entity = (meaning(word_i , query))_{i \\in [1,n]}$$ which is a probabilitical function.<br><br>\n",
    "Let's take a $i$ that is not the first neather the last word, I suppose that :<br><br> $$ \\mathbb{P}[meaning(word_i,query) = entity_j |query] =  \\mathbb{P}[meaning(word_i,query) = entity_j | entity_{i-1},word_{i},entity_{i+1}]$$<br>\n",
    ">\n",
    "In other words, I assume that the entity of a word in a query depends on itself but also on the entities of the word before and after him.\n",
    "Then I calculate the table in which each row represents a word found in the training data base whom columns are a word : <br><br>$$ \\forall word_{i} \\in \\Omega_i  \\text{,  }\\mathbb{P}[meaning(word_i,query) = entity_j |word_h] $$ <br>$$\\forall h \\in [i-1,i+1], \\forall entity_j \\in  \\Omega_{entity}$$\n",
    "\n",
    ">Because I assume that : $$\\mathbb{P}[meaning(word_i,query) = entity_j | entity_{i-1},word_{i},entity_{i+1}]$$ has a linear relation with the above proababilities ie :  $$\\exists \\text{ }(\\alpha_{i-1},\\alpha_i,\\alpha_{i+1}) \\in \\mathbb{R} ^3,$$ such as :\n",
    "$$ \\mathbb{P}[meaning(word_i,query) = entity_j | entity_{i-1},word_{i},entity_{i+1}] = $$\n",
    "$$\\sum_{h = i-1}^{i+1}{ \\alpha_h \\times \\mathbb{P}[meaning(word_i,query)} = entity_j |word_h] $$\n",
    "\n",
    ">I wheight the probability in the linear relation by the number of occurence  of $word_h$ in the test-base.<br><br>\n",
    "Finally, I choose $entity_j$ that maximises the linear relation."
   ]
  },
  {
   "cell_type": "code",
   "execution_count": 27,
   "metadata": {},
   "outputs": [],
   "source": [
    "proba = df.groupby('text').apply(lambda x : pd.Series({\n",
    "    **{'occurence_number': len(x)},\n",
    "    \n",
    "    **{'number_'+entity+'_before' : sum(x.entity_before == entity)/len(x) for entity in all_queries_entity },\n",
    "                                                                                                          \n",
    "    **{'number_'+entity+'_after' : sum(x.entity_after == entity)/len(x)  for entity in all_queries_entity  },\n",
    "                                                                                                                 \n",
    "    **{'number_'+entity : sum(x.entity == entity)/len(x) for entity in all_queries_entity },\n",
    "                                                    }\n",
    "                                                    )).reset_index()"
   ]
  },
  {
   "cell_type": "markdown",
   "metadata": {},
   "source": [
    "$\\text{text_to_proba}$ is a function that give a dictionary of probability, whose keys are all entity in $\\Omega_{entity}$."
   ]
  },
  {
   "cell_type": "code",
   "execution_count": 28,
   "metadata": {},
   "outputs": [],
   "source": [
    "which_list = {'before': '_before' ,'after': '_after', 'itself' : ''}\n",
    "def text_to_proba(text, which):\n",
    "    \n",
    "    proba_dict = { entity : [proba[proba.text == text]['number_'+entity+which_list[which]].iloc[0]  ,  int(proba[proba.text == text]['occurence_number'].iloc[0])] if len(proba[proba.text == text]) > 0 else [0,0] for entity in all_queries_entity }\n",
    "\n",
    "    return(proba_dict )"
   ]
  },
  {
   "cell_type": "markdown",
   "metadata": {},
   "source": [
    "$\\text{multiply}$ is a function that a wheighted addition of the probabilities of the 3 dictionnaries. <br>\n",
    "Parameters of the wheighted addition are : $$(\\alpha,\\beta,\\gamma)$$<br>"
   ]
  },
  {
   "cell_type": "code",
   "execution_count": 29,
   "metadata": {},
   "outputs": [],
   "source": [
    "def multiply(before,itself,after,alpha,beta,gamma):\n",
    "    new_dic = {}\n",
    "    list_keys = np.unique(list(before.keys()) + list(itself.keys()) + list(after.keys()))\n",
    "    \n",
    "    if before == {}:\n",
    "        before = {clef : [0,0] for clef in before.keys()}\n",
    "        \n",
    "    if itself == {}:\n",
    "        itself = {clef : [0,0] for clef in before.keys()}\n",
    "        \n",
    "    if after == {}:\n",
    "        after = {clef : [0,0] for clef in before.keys()}\n",
    "        \n",
    "    for key in before.keys():\n",
    "        sum_occurence = before[key][1] + itself[key][1] + after[key][1]\n",
    "         \n",
    "        if sum_occurence == 0: #I don't want to divide by zero line 22\n",
    "            sum_occurence = 1\n",
    "            \n",
    "        new_dic[key] = (alpha * before[key][0] * before[key][1]  + beta*itself[key][0]*itself[key][1] + gamma*after[key][0]*after[key][1])/sum_occurence\n",
    "\n",
    "    if list(max_value(itself).values())[0] >0.90:\n",
    "        new_dic = max_value(itself)\n",
    "        \n",
    "    return(new_dic)"
   ]
  },
  {
   "cell_type": "markdown",
   "metadata": {},
   "source": [
    "From a probability dictionnary, $\\text{max_value}$  returns a dictionnary with the max value of the dictionnary and the key associated"
   ]
  },
  {
   "cell_type": "code",
   "execution_count": 30,
   "metadata": {},
   "outputs": [],
   "source": [
    "def max_value(dico):\n",
    "    max_value = 0\n",
    "    max_key = 0\n",
    "    for key,value in dico.items():\n",
    "        if value[0] > max_value:\n",
    "            max_value = value[0]\n",
    "            max_key = key\n",
    "    return({max_key : max_value})    "
   ]
  },
  {
   "cell_type": "markdown",
   "metadata": {},
   "source": [
    "$\\text{key_max_value}$ returns, given a dictionnary of probabilities, argmax of the keys"
   ]
  },
  {
   "cell_type": "code",
   "execution_count": null,
   "metadata": {},
   "outputs": [],
   "source": [
    "def key_max_value(dico):\n",
    "    max_value = 0\n",
    "    max_key = ''\n",
    "    for key, value in dico.items():\n",
    "        if value > max_value:\n",
    "            max_key = key\n",
    "            max_value = value\n",
    "    return(max_key)"
   ]
  },
  {
   "cell_type": "markdown",
   "metadata": {},
   "source": [
    "Given a query, $\\text{word_to_test}$ returns the entity of each words of the query, by taking the key of the max value in the probability dictionnary."
   ]
  },
  {
   "cell_type": "code",
   "execution_count": null,
   "metadata": {},
   "outputs": [],
   "source": [
    "def word_to_test_to_demo(query):\n",
    "    word_tokens = query.split(' ')\n",
    "    word_tokens = [word_token if word_token not in dico_stop_words[type_of_query] else 'None' for word_token in word_tokens]\n",
    "   \n",
    "    dict_output = {}\n",
    "    for index,word in enumerate(word_tokens):\n",
    "        if index == 0:\n",
    "            output = key_max_value(  multiply(text_to_proba(word_tokens[index+1],'before'),text_to_proba(word,'itself'),{},alpha,beta,gamma))\n",
    "        if index == len(word_tokens)-1:\n",
    "            output = key_max_value(multiply( text_to_proba(word_tokens[index-1],'before')  ,text_to_proba(word,'itself'), {},alpha,beta,gamma ))\n",
    "        elif (index >0) & (index < len(word_tokens)-1) :\n",
    "            output = key_max_value(multiply(text_to_proba(word_tokens[index+1],'before'),text_to_proba(word,'itself'),text_to_proba(word_tokens[index-1],'after'),alpha,beta,gamma))\n",
    "\n",
    "        dict_output[word] = output\n",
    "   \n",
    "    to_return = [{word : dict_output[word]} if word in dict_output.keys() else {word : 'None'} for word in query.split(' ')]\n",
    "\n",
    "    return(to_return)"
   ]
  },
  {
   "cell_type": "code",
   "execution_count": null,
   "metadata": {},
   "outputs": [],
   "source": [
    "def word_to_test(query):\n",
    "    word_tokens = query\n",
    "    vecteur = []\n",
    "    vecteur_word = []\n",
    "    \n",
    "    for index,word in enumerate(word_tokens):\n",
    "        if index == 0:\n",
    "            output = key_max_value(  multiply(text_to_proba(word_tokens[index+1],'before'),text_to_proba(word,'itself'),{},alpha,beta,gamma))\n",
    "        if index == len(word_tokens)-1:\n",
    "            output = key_max_value(multiply( text_to_proba(word_tokens[index-1],'before')  ,text_to_proba(word,'itself'), {},alpha,beta,gamma ))\n",
    "        elif (index >0) & (index < len(word_tokens)-1) :\n",
    "            output = key_max_value(multiply(text_to_proba(word_tokens[index+1],'before'),text_to_proba(word,'itself'),text_to_proba(word_tokens[index-1],'after'),alpha,beta,gamma))\n",
    "        vecteur_word.append(word)    \n",
    "        vecteur.append(output)\n",
    "        \n",
    "    return([vecteur_word,vecteur])"
   ]
  },
  {
   "cell_type": "markdown",
   "metadata": {},
   "source": [
    "Given the test data base and the wheighted parameters, $\\text{df_predict_bis}$ returns the data frame with an extra prediction entity column."
   ]
  },
  {
   "cell_type": "code",
   "execution_count": null,
   "metadata": {},
   "outputs": [],
   "source": [
    "def df_predict_bis(df_test,alpha,beta,gamma):\n",
    "    entity_test = []\n",
    "    queries_df = df_test.groupby('query_id')\n",
    "\n",
    "    for query_id, group in queries_df:\n",
    "        entity_test += word_to_test(list(group.text))[1]\n",
    "\n",
    "    df_test['entity_test'] = entity_test\n",
    "    df_test['prediction'] = df_test.apply(lambda row : row.entity == row.entity_test,axis = 1)\n",
    "\n",
    "    return(df_test)"
   ]
  },
  {
   "cell_type": "markdown",
   "metadata": {},
   "source": [
    "$\\text{df_predict}$ returns the metrics performance of the algorithm"
   ]
  },
  {
   "cell_type": "code",
   "execution_count": null,
   "metadata": {},
   "outputs": [],
   "source": [
    "def df_predict(df_test,alpha,beta,gamma):\n",
    "    entity_test = []\n",
    "    queries_df = df_test.groupby('query_id')\n",
    "\n",
    "    for query_id, group in queries_df:\n",
    "        entity_test += word_to_test(list(group.text))[1]\n",
    "\n",
    "    df_test['entity_test'] = entity_test\n",
    "    df_test['prediction'] = df_test.apply(lambda row : row.entity == row.entity_test,axis = 1)\n",
    "    grouped = df_test.groupby('query_id').apply(lambda x : 1 if sum(x.prediction)/len(x) ==1 else 0).reset_index(name = 'number')\n",
    "    wrong_entity_rate = sum(grouped.number)/len(grouped)\n",
    "    wrong_query_rate = sum(df_test.prediction)/len(df_test)\n",
    "    \n",
    "    vanity_metric = df_test.groupby('query_id').apply(lambda x : pd.Series({\n",
    "    'query_type' : list(x[x.entity != 'None'].entity.unique()) ,\n",
    "    'query_type_test' : list(x[x.entity_test != 'None'].entity_test.unique()) ,\n",
    "    'query' : sum_text(x.text)\n",
    "                                } )).reset_index()\n",
    "    vanity_metric['prediction'] = vanity_metric.apply(lambda row : row.query_type == row.query_type_test , axis =1 )\n",
    "    vanity_metric = sum(vanity_metric.prediction)/len(vanity_metric)\n",
    "\n",
    "    return([wrong_entity_rate,wrong_query_rate,vanity_metric])"
   ]
  },
  {
   "cell_type": "markdown",
   "metadata": {},
   "source": [
    "## <span style=\"text-decoration : underline\">Error analysis<span>"
   ]
  },
  {
   "cell_type": "markdown",
   "metadata": {},
   "source": [
    "The natural performance metric can be the percentage of query that is full right (every single word of the query has the right entity), I name its the entity metric. <br>\n",
    "But it hides a lot of information, I  add another metric (the query metric) wich is the percentage of right entity in the data base of all query merged.<br>\n",
    "Then if there is one entity mistake in each queries, entity_metric is 0 where as the query metric gives something close to 1 with a big data base.<br>\n",
    "The last metric I chose is the vanity metricfor a given query : 1 if all the entity of the query = prediction(all the entity of the query). "
   ]
  },
  {
   "cell_type": "code",
   "execution_count": null,
   "metadata": {},
   "outputs": [],
   "source": [
    "alpha =1\n",
    "beta =2\n",
    "gamma = 0.2\n",
    "    \n",
    "temp = df_predict(df_test,alpha,beta,gamma)\n",
    "entity_metric = temp[0]\n",
    "query_metric = temp[1]\n",
    "vanity_metric = temp[2]"
   ]
  },
  {
   "cell_type": "code",
   "execution_count": null,
   "metadata": {},
   "outputs": [],
   "source": [
    "print('For the type of query '+type_of_query+\" and for alpha, beta, gamma like above, the algorithm gets the following results :\")\n",
    "print('')\n",
    "print('Entity metric = '+str(round(entity_metric,2)))\n",
    "print('Query metric = '+str(round(query_metric ,2)))\n",
    "print('Vanity metric = '+str(round(vanity_metric,2)))"
   ]
  },
  {
   "cell_type": "markdown",
   "metadata": {},
   "source": [
    "## <span style=\"text-decoration : underline\">Conclusion<span>"
   ]
  },
  {
   "cell_type": "markdown",
   "metadata": {
    "collapsed": true
   },
   "source": [
    "The algorithm performs very good on query where every entities is a single word like :"
   ]
  },
  {
   "cell_type": "code",
   "execution_count": 43,
   "metadata": {},
   "outputs": [
    {
     "data": {
      "text/plain": [
       "[{\"I'd\": 'None'},\n",
       " {'like': 'None'},\n",
       " {'to': 'None'},\n",
       " {'add': 'None'},\n",
       " {'Californication': 'music_item'},\n",
       " {'to': 'None'},\n",
       " {'the': 'None'},\n",
       " {'rock': 'playlist'},\n",
       " {'playlist': 'None'}]"
      ]
     },
     "execution_count": 43,
     "metadata": {},
     "output_type": "execute_result"
    }
   ],
   "source": [
    "word_to_test_to_demo(\"I'd like to add Californication to the rock playlist\")"
   ]
  },
  {
   "cell_type": "markdown",
   "metadata": {},
   "source": [
    "But fails when the entities are more than 3 words :"
   ]
  },
  {
   "cell_type": "code",
   "execution_count": 29,
   "metadata": {
    "scrolled": true
   },
   "outputs": [
    {
     "data": {
      "text/plain": [
       "[{'please': 'None'},\n",
       " {'can': 'None'},\n",
       " {'you': 'None'},\n",
       " {'add': 'None'},\n",
       " {'Also': 'music_item'},\n",
       " {'sprach': ''},\n",
       " {'Zarathoustra': 'music_item'},\n",
       " {'to': 'None'},\n",
       " {'my': 'playlist_owner'},\n",
       " {'cult': 'playlist'},\n",
       " {'movie': 'None'},\n",
       " {'soundtrack': 'playlist'},\n",
       " {'playlist': 'None'}]"
      ]
     },
     "execution_count": 29,
     "metadata": {},
     "output_type": "execute_result"
    }
   ],
   "source": [
    " word_to_test_to_demo(\"please can you add Also sprach Zarathustra to my cult movie soundtrack playlist\")"
   ]
  },
  {
   "cell_type": "markdown",
   "metadata": {},
   "source": [
    "The way to fix this kind of issue could be to calculate the probability of the output and compare with the probability of alternative outputs such as :"
   ]
  },
  {
   "cell_type": "markdown",
   "metadata": {},
   "source": [
    "```python\n",
    "[{'please': 'None'},\n",
    "{'can': 'None'},\n",
    " {'you': 'None'},\n",
    " {'add': 'None'},\n",
    " {'Also': 'music_item'},\n",
    " {'sprach': 'music_item'},\n",
    " {'Zarathustra': 'music_item'},\n",
    " {'to': 'None'},\n",
    " {'my': 'playlist_owner'},\n",
    " {'cult': 'playlist'},\n",
    " {'movie': 'playlist'},\n",
    " {'songs': 'playlist'},\n",
    " {'playlist': 'None'}] ```"
   ]
  },
  {
   "cell_type": "markdown",
   "metadata": {},
   "source": [
    "Or make the entity of a word depends on words further than one before and one after. In the previous query, for the word 'sprach', the algorithm would see 'add' two words before and 'to' two words after and conclude with 'music_item'."
   ]
  },
  {
   "cell_type": "markdown",
   "metadata": {},
   "source": [
    ">Some ideas to increase the performance : \n",
    "- Another way to increase the performance would have been to boost the parameters alpha, beta, gamma conditionally to the given word.\n",
    " The easiest way is to perform a linear regression of the probabilities in the Probabilities model part.\n",
    "- Boost the parameters alpha, beta conditionally with the type_of_query.<br>\n",
    " In order to make the best boosting of the parameters, I would have merge the training base and test base and make cross-validations by    randomly choosing the test base and the training base. <br>It avoids over-fitting on the test base, and makes a more robust algorithm to change of data\n",
    "- Change the number words in the query, <br>'Book a vegan restaurant at nine fifty in the afternoon' will give 'Book a vegan restaurant at 9 50 in the afternoon.' <br>Then add a regex that identifies number in the queries, \n",
    "- I noticed spelling mistakes in the data base such as 'plylist' and this remains to be fixed. But it could be very time costful to check for spelling mistake in the whole data base.\n",
    "- Make an algorithm that first identify the type of the query by looking at the word in the query and comparing them to the data base of all queries merged and then deal with the query as done here."
   ]
  },
  {
   "cell_type": "code",
   "execution_count": null,
   "metadata": {
    "collapsed": true
   },
   "outputs": [],
   "source": []
  }
 ],
 "metadata": {
  "kernelspec": {
   "display_name": "Python 3",
   "language": "python",
   "name": "python3"
  },
  "language_info": {
   "codemirror_mode": {
    "name": "ipython",
    "version": 3
   },
   "file_extension": ".py",
   "mimetype": "text/x-python",
   "name": "python",
   "nbconvert_exporter": "python",
   "pygments_lexer": "ipython3",
   "version": "3.6.3"
  },
  "toc": {
   "base_numbering": 1,
   "nav_menu": {},
   "number_sections": true,
   "sideBar": true,
   "skip_h1_title": false,
   "title_cell": "Table of Contents",
   "title_sidebar": "Contents",
   "toc_cell": false,
   "toc_position": {},
   "toc_section_display": true,
   "toc_window_display": false
  }
 },
 "nbformat": 4,
 "nbformat_minor": 2
}
